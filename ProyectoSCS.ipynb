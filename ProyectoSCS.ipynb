{
 "cells": [
  {
   "cell_type": "markdown",
   "metadata": {
    "id": "VsGSJeqQ7V6o"
   },
   "source": [
    "# Proyecto Seminario ciencias de la computacion \n",
    "Horacio Araiza Gonzalez\n",
    "\n",
    "Manuel Ignacio Gómez García"
   ]
  },
  {
   "cell_type": "markdown",
   "metadata": {
    "id": "86mnMW5A7dmW"
   },
   "source": [
    " **Se le proporcionan datos históricos de ventas diarias. La tarea consiste en prever la cantidad total de productos vendidos en cada tienda para el conjunto de pruebas. Tenga en cuenta que la lista de tiendas y productos cambia ligeramente cada mes. Crear un modelo robusto que pueda manejar estas situaciones es parte del reto.**"
   ]
  },
  {
   "cell_type": "markdown",
   "metadata": {
    "id": "dVZu1_Dqrh4r"
   },
   "source": [
    "Importamos las librerias y iniciamos el entorno"
   ]
  },
  {
   "cell_type": "code",
   "execution_count": 1,
   "metadata": {
    "id": "5XMjtmAVpwh1"
   },
   "outputs": [
    {
     "name": "stdout",
     "output_type": "stream",
     "text": [
      "Requirement already satisfied: findspark in /LUSTRE/home/mgomez/.local/lib/python3.8/site-packages (2.0.1)\r\n"
     ]
    }
   ],
   "source": [
    "!python -m pip install --user \"findspark\"\n",
    "\n",
    "import os\n",
    "\n",
    "# Import Spark libraries\n",
    "import findspark\n",
    "findspark.init()\n",
    "\n",
    "import pyspark"
   ]
  },
  {
   "cell_type": "code",
   "execution_count": 2,
   "metadata": {
    "id": "_x2ZGylDpwlj"
   },
   "outputs": [],
   "source": [
    "from pyspark.sql import functions as f\n",
    "from pyspark.sql import SparkSession, Window\n",
    "from pyspark.ml.feature import *\n",
    "from pyspark.ml.regression import *\n",
    "from pyspark.ml.evaluation import *\n",
    "from pyspark.ml.functions import vector_to_array\n",
    "import numpy as np\n",
    "import matplotlib.pyplot as plt\n",
    "%matplotlib inline"
   ]
  },
  {
   "cell_type": "code",
   "execution_count": 3,
   "metadata": {
    "id": "tmWIpmetrsKU"
   },
   "outputs": [
    {
     "name": "stderr",
     "output_type": "stream",
     "text": [
      "Using Spark's default log4j profile: org/apache/spark/log4j-defaults.properties\n",
      "Setting default log level to \"WARN\".\n",
      "To adjust logging level use sc.setLogLevel(newLevel). For SparkR, use setLogLevel(newLevel).\n",
      "22/05/23 23:32:54 WARN NativeCodeLoader: Unable to load native-hadoop library for your platform... using builtin-java classes where applicable\n"
     ]
    }
   ],
   "source": [
    "spark = (SparkSession\n",
    "        .builder\n",
    "        .appName('parkML: Regression')\n",
    "        .config(\"spark.debug.maxToStringFields\", \"100\")\n",
    "        .getOrCreate()\n",
    ")\n",
    "spark.conf.set(\"spark.sql.execution.arrow.pyspark.enabled\", True)"
   ]
  },
  {
   "cell_type": "markdown",
   "metadata": {
    "id": "s-ENn354rwes"
   },
   "source": [
    "# **Cargar los conjuntos de datos de entrenamiento y prueba en Pyspark**"
   ]
  },
  {
   "cell_type": "code",
   "execution_count": 4,
   "metadata": {
    "id": "PDtb6ViKrsQD"
   },
   "outputs": [
    {
     "name": "stderr",
     "output_type": "stream",
     "text": [
      "                                                                                \r"
     ]
    }
   ],
   "source": [
    "data = spark.read.csv(\"./sales_train.csv\", header = True, inferSchema = True).limit(1000000)\n",
    "test = spark.read.csv(\"./test.csv\", header=True, inferSchema=True)"
   ]
  },
  {
   "cell_type": "code",
   "execution_count": 5,
   "metadata": {
    "colab": {
     "base_uri": "https://localhost:8080/"
    },
    "id": "epZONKSGrsSt",
    "outputId": "3dc73b61-beb4-4695-b731-b367bbda22b1"
   },
   "outputs": [
    {
     "name": "stdout",
     "output_type": "stream",
     "text": [
      "root\n",
      " |-- date: string (nullable = true)\n",
      " |-- date_block_num: integer (nullable = true)\n",
      " |-- shop_id: integer (nullable = true)\n",
      " |-- item_id: integer (nullable = true)\n",
      " |-- item_price: double (nullable = true)\n",
      " |-- item_cnt_day: double (nullable = true)\n",
      "\n",
      "Test data schema\n",
      "root\n",
      " |-- ID: integer (nullable = true)\n",
      " |-- shop_id: integer (nullable = true)\n",
      " |-- item_id: integer (nullable = true)\n",
      "\n"
     ]
    }
   ],
   "source": [
    "# Imprime el esquema de la trama de datos\n",
    "data.printSchema()\n",
    "print(\"Test data schema\")\n",
    "test.printSchema()"
   ]
  },
  {
   "cell_type": "code",
   "execution_count": 6,
   "metadata": {
    "colab": {
     "base_uri": "https://localhost:8080/"
    },
    "id": "pC7O87kRtwj2",
    "outputId": "7fdc3585-280c-42ba-fe1b-f311994dec4c"
   },
   "outputs": [
    {
     "name": "stderr",
     "output_type": "stream",
     "text": [
      "[Stage 4:==========================================>              (17 + 6) / 23]\r"
     ]
    },
    {
     "name": "stdout",
     "output_type": "stream",
     "text": [
      "+----------+--------------+-------+-------+----------+------------+\n",
      "|      date|date_block_num|shop_id|item_id|item_price|item_cnt_day|\n",
      "+----------+--------------+-------+-------+----------+------------+\n",
      "|02.01.2013|             0|     59|  22154|     999.0|         1.0|\n",
      "|03.01.2013|             0|     25|   2552|     899.0|         1.0|\n",
      "|05.01.2013|             0|     25|   2552|     899.0|        -1.0|\n",
      "|06.01.2013|             0|     25|   2554|   1709.05|         1.0|\n",
      "|15.01.2013|             0|     25|   2555|    1099.0|         1.0|\n",
      "|10.01.2013|             0|     25|   2564|     349.0|         1.0|\n",
      "|02.01.2013|             0|     25|   2565|     549.0|         1.0|\n",
      "|04.01.2013|             0|     25|   2572|     239.0|         1.0|\n",
      "|11.01.2013|             0|     25|   2572|     299.0|         1.0|\n",
      "|03.01.2013|             0|     25|   2573|     299.0|         3.0|\n",
      "+----------+--------------+-------+-------+----------+------------+\n",
      "only showing top 10 rows\n",
      "\n"
     ]
    },
    {
     "name": "stderr",
     "output_type": "stream",
     "text": [
      "                                                                                \r"
     ]
    }
   ],
   "source": [
    "data.show(10)"
   ]
  },
  {
   "cell_type": "code",
   "execution_count": 7,
   "metadata": {
    "colab": {
     "base_uri": "https://localhost:8080/"
    },
    "id": "xElfS2u1rsVw",
    "outputId": "d5cf1192-16b8-4add-d108-a575c039de04"
   },
   "outputs": [
    {
     "name": "stdout",
     "output_type": "stream",
     "text": [
      "Column number: 6\n",
      "Raw data summary:\n"
     ]
    },
    {
     "name": "stderr",
     "output_type": "stream",
     "text": [
      "[Stage 9:>                                                          (0 + 1) / 1]\r"
     ]
    },
    {
     "name": "stdout",
     "output_type": "stream",
     "text": [
      "+-------+----------+-----------------+------------------+-----------------+-----------------+------------------+\n",
      "|summary|      date|   date_block_num|           shop_id|          item_id|       item_price|      item_cnt_day|\n",
      "+-------+----------+-----------------+------------------+-----------------+-----------------+------------------+\n",
      "|  count|   1000000|          1000000|           1000000|          1000000|          1000000|           1000000|\n",
      "|   mean|      null|         4.208071|          32.73796|     10225.080515|675.9365139514163|          1.208791|\n",
      "| stddev|      null|2.830910361175782|16.327174514134846|6285.262987518039|1117.935671758554|1.5283355829557383|\n",
      "|    min|01.01.2013|                0|                 0|               12|             -1.0|              -6.0|\n",
      "|    25%|      null|                2|                22|             4565|            199.0|               1.0|\n",
      "|    50%|      null|                4|                31|             9661|            399.0|               1.0|\n",
      "|    75%|      null|                7|                47|            15540|            699.0|               1.0|\n",
      "|    max|31.10.2013|                9|                59|            22168|          59200.0|             288.0|\n",
      "+-------+----------+-----------------+------------------+-----------------+-----------------+------------------+\n",
      "\n"
     ]
    },
    {
     "name": "stderr",
     "output_type": "stream",
     "text": [
      "                                                                                \r"
     ]
    }
   ],
   "source": [
    "print(\"Column number:\", len(data.columns))\n",
    "print(\"Raw data summary:\")\n",
    "data.summary().show()"
   ]
  },
  {
   "cell_type": "markdown",
   "metadata": {
    "id": "ulu2a6P6uIqT"
   },
   "source": [
    "# Preprocesamiento de datos"
   ]
  },
  {
   "cell_type": "code",
   "execution_count": 8,
   "metadata": {
    "colab": {
     "base_uri": "https://localhost:8080/"
    },
    "id": "sSxgdzhWrsYa",
    "outputId": "b7b91af1-eafe-4f62-9c10-2111324939ad"
   },
   "outputs": [
    {
     "name": "stderr",
     "output_type": "stream",
     "text": [
      "                                                                                \r"
     ]
    },
    {
     "name": "stdout",
     "output_type": "stream",
     "text": [
      "Rows after joining: 203689\n",
      "Summary:\n"
     ]
    },
    {
     "name": "stderr",
     "output_type": "stream",
     "text": [
      "[Stage 17:>                                                         (0 + 1) / 1]\r"
     ]
    },
    {
     "name": "stdout",
     "output_type": "stream",
     "text": [
      "+-------+----------+------------------+-----------------+-----------------+-----------------+------------------+\n",
      "|summary|      date|    date_block_num|          shop_id|          item_id|       item_price|      item_cnt_day|\n",
      "+-------+----------+------------------+-----------------+-----------------+-----------------+------------------+\n",
      "|  count|    203689|            203689|           203689|           203689|           203689|            203689|\n",
      "|   mean|      null| 4.682020138544546| 31.8259552553157|9395.259567281493| 723.939446945255|1.4023388597322388|\n",
      "| stddev|      null|2.8329934872957665|16.27862922937888|6337.094718423836|771.6447985623448|2.6330950633016816|\n",
      "|    min|01.01.2013|                 0|                2|               30|              3.0|              -6.0|\n",
      "|    25%|      null|                 2|               19|             3719|            249.0|               1.0|\n",
      "|    50%|      null|                 5|               31|             7734|            449.0|               1.0|\n",
      "|    75%|      null|                 7|               46|            15031|            999.0|               1.0|\n",
      "|    max|31.10.2013|                 9|               59|            22167|          59200.0|             288.0|\n",
      "+-------+----------+------------------+-----------------+-----------------+-----------------+------------------+\n",
      "\n"
     ]
    },
    {
     "name": "stderr",
     "output_type": "stream",
     "text": [
      "                                                                                \r"
     ]
    }
   ],
   "source": [
    "# Realizar semi-join\n",
    "train = (data.join(test, [\"shop_id\", \"item_id\"], \"semi\")\n",
    "              .select(data.columns))\n",
    "# Ver si el número de filas disminuye\n",
    "print(\"Rows after joining:\", train.count())\n",
    "print(\"Summary:\")\n",
    "train.summary().show()"
   ]
  },
  {
   "cell_type": "code",
   "execution_count": 9,
   "metadata": {
    "colab": {
     "base_uri": "https://localhost:8080/"
    },
    "id": "0xWvKLwnt2dA",
    "outputId": "68a6eba4-410a-46ac-d97a-510d263a213c"
   },
   "outputs": [
    {
     "name": "stderr",
     "output_type": "stream",
     "text": [
      "                                                                                \r"
     ]
    },
    {
     "data": {
      "text/plain": [
       "203252"
      ]
     },
     "execution_count": 9,
     "metadata": {},
     "output_type": "execute_result"
    }
   ],
   "source": [
    "train = train.where((train.item_price >= 0) & (train.item_cnt_day >= 0))\n",
    "train.count()"
   ]
  },
  {
   "cell_type": "code",
   "execution_count": 10,
   "metadata": {
    "id": "kUnhiYZKuS9M"
   },
   "outputs": [
    {
     "name": "stderr",
     "output_type": "stream",
     "text": [
      "[Stage 25:>                                                         (0 + 1) / 1]\r"
     ]
    },
    {
     "name": "stdout",
     "output_type": "stream",
     "text": [
      "+-------+-----------------+------------------+-----------------+-------------------+--------------------+------------------+------------------+------------------+\n",
      "|summary|      month_index|           shop_id|          item_id|all_itemPrice_month|mean_itemPrice_month|    item_cnt_month|mean_itemCnt_month|   days_sold_month|\n",
      "+-------+-----------------+------------------+-----------------+-------------------+--------------------+------------------+------------------+------------------+\n",
      "|  count|            92419|             92419|            92419|              92419|               92419|             92419|             92419|             92419|\n",
      "|   mean|4.654984364686915|31.719527369913113|9860.909488308682| 1590.3340518597859|   660.2045339573962|3.0955755851069586| 1.103838422628086| 2.199244744046138|\n",
      "| stddev|2.799396526410254| 16.73984827197512|6127.187557430541|  3365.292954159378|   753.9643129643918|13.283945507971122|0.8943617708534444|2.5989415226728676|\n",
      "|    min|                0|                 2|               30|                3.0|                 3.0|               1.0|               1.0|                 1|\n",
      "|    25%|                2|                19|             4244|              299.0|               199.0|               1.0|               1.0|                 1|\n",
      "|    50%|                5|                31|             9957|              598.0|              372.61|               1.0|               1.0|                 1|\n",
      "|    75%|                7|                46|            15106|             1580.0|               899.0|               2.0|               1.0|                 2|\n",
      "|    max|                9|                59|            22167|    102356.33333333|             14200.0|             978.0|             115.0|                31|\n",
      "+-------+-----------------+------------------+-----------------+-------------------+--------------------+------------------+------------------+------------------+\n",
      "\n"
     ]
    },
    {
     "name": "stderr",
     "output_type": "stream",
     "text": [
      "                                                                                \r"
     ]
    }
   ],
   "source": [
    "train = (\n",
    "    train.groupBy([\"date_block_num\", \"shop_id\", \"item_id\"]).agg(\n",
    "        f.sum(\"item_price\").alias(\"all_itemPrice_month\"), # Sum of item prices by each item per month\n",
    "        f.mean(\"item_price\").alias(\"mean_itemPrice_month\"), # Mean of item prices by each item per month\n",
    "        f.sum(\"item_cnt_day\").alias(\"item_cnt_month\"), # Total item sold per month\n",
    "        f.mean(\"item_cnt_day\").alias(\"mean_itemCnt_month\"), # Mean of item sold per month\n",
    "        f.count(\"item_cnt_day\").alias(\"days_sold_month\") # Number of days the item is sold each month\n",
    "    ).withColumnRenamed(\"date_block_num\", \"month_index\")\n",
    ")\n",
    "\n",
    "train.summary().show()"
   ]
  },
  {
   "cell_type": "code",
   "execution_count": 11,
   "metadata": {
    "id": "FjHWvUzqufid"
   },
   "outputs": [
    {
     "name": "stderr",
     "output_type": "stream",
     "text": [
      "                                                                                \r"
     ]
    }
   ],
   "source": [
    "sampling_ratio = 1 # Cambia esto si el tamaño de los datos es demasiado grande\n",
    "itemPrices = train.select(\"all_itemPrice_month\").rdd.map(lambda row: row.all_itemPrice_month).sample(False, sampling_ratio, 19127191).collect()\n",
    "itemCounts = train.select(\"item_cnt_month\").rdd.map(lambda row: row.item_cnt_month).sample(False, sampling_ratio, 19127191).collect()"
   ]
  },
  {
   "cell_type": "code",
   "execution_count": 12,
   "metadata": {
    "colab": {
     "base_uri": "https://localhost:8080/",
     "height": 563
    },
    "id": "yZsdynYmufl0",
    "outputId": "a095b6d1-00d5-4a25-8cc5-ecf2b0931a38"
   },
   "outputs": [
    {
     "data": {
      "image/png": "[encoded data removed]",
      "text/plain": [
       "<Figure size 432x288 with 1 Axes>"
      ]
     },
     "metadata": {
      "needs_background": "light"
     },
     "output_type": "display_data"
    },
    {
     "name": "stdout",
     "output_type": "stream",
     "text": [
      "\n"
     ]
    },
    {
     "data": {
      "image/png": "[encoded data removed]",
      "text/plain": [
       "<Figure size 432x288 with 1 Axes>"
      ]
     },
     "metadata": {
      "needs_background": "light"
     },
     "output_type": "display_data"
    }
   ],
   "source": [
    "# Dibuja boxplots de las 2 características para comprobar si hay valores atípicos\n",
    "\n",
    "# Precios de los artículos\n",
    "plt.boxplot(itemPrices, sym='k.')\n",
    "plt.yticks(np.arange(0, 550000, 50000))\n",
    "plt.title(\"Boxplot de precios de los artículos\")\n",
    "plt.show()\n",
    "\n",
    "print()\n",
    "# Venta de artículos\n",
    "plt.boxplot(itemCounts, sym='k.')\n",
    "plt.yticks(np.arange(0, 2400, 200))\n",
    "plt.title(\"Boxplot de la venta de artículos\")\n",
    "plt.show()"
   ]
  },
  {
   "cell_type": "code",
   "execution_count": 13,
   "metadata": {
    "colab": {
     "base_uri": "https://localhost:8080/"
    },
    "id": "rq8Cb8NoufpF",
    "outputId": "644a163b-1838-4062-a4d4-37e10c031287"
   },
   "outputs": [
    {
     "name": "stderr",
     "output_type": "stream",
     "text": [
      "                                                                                \r"
     ]
    },
    {
     "data": {
      "text/plain": [
       "92416"
      ]
     },
     "execution_count": 13,
     "metadata": {},
     "output_type": "execute_result"
    }
   ],
   "source": [
    "train = train.where((train.all_itemPrice_month <= 400000) & (train.item_cnt_month <= 800))\n",
    "train.count()"
   ]
  },
  {
   "cell_type": "code",
   "execution_count": 14,
   "metadata": {
    "id": "at9ibzMZufr6"
   },
   "outputs": [],
   "source": [
    "combinations = (\n",
    "    (train.select(\"month_index\").distinct()).crossJoin(\n",
    "        train.select(\"shop_id\").distinct())\n",
    "    ).crossJoin(\n",
    "        train.select(\"item_id\").distinct()\n",
    "    )"
   ]
  },
  {
   "cell_type": "code",
   "execution_count": 15,
   "metadata": {
    "id": "LoNw9dgquTDE"
   },
   "outputs": [],
   "source": [
    "train_monthly = train.join(combinations, [\"month_index\", \"shop_id\", \"item_id\"], \"rightouter\")\n",
    "train_monthly = train_monthly.fillna(0) # rellenar los valores que faltan\n",
    "\n",
    "# Realiza una operación de ordenación para mantener el orden de las series temporales\n",
    "train_monthly = train_monthly.orderBy([\"month_index\", \"shop_id\", \"item_id\"], ascending=[1,1,1])"
   ]
  },
  {
   "cell_type": "code",
   "execution_count": 16,
   "metadata": {
    "colab": {
     "base_uri": "https://localhost:8080/"
    },
    "id": "-x0VmciIrsbI",
    "outputId": "b8d30830-60b7-4ce7-93e0-6abbba3caf06"
   },
   "outputs": [
    {
     "name": "stdout",
     "output_type": "stream",
     "text": [
      "10 first samples:\n"
     ]
    },
    {
     "name": "stderr",
     "output_type": "stream",
     "text": [
      "[Stage 42:>                                                         (0 + 1) / 1]\r"
     ]
    },
    {
     "name": "stdout",
     "output_type": "stream",
     "text": [
      "+-----------+-------+-------+-------------------+--------------------+--------------+------------------+---------------+\n",
      "|month_index|shop_id|item_id|all_itemPrice_month|mean_itemPrice_month|item_cnt_month|mean_itemCnt_month|days_sold_month|\n",
      "+-----------+-------+-------+-------------------+--------------------+--------------+------------------+---------------+\n",
      "|          0|      2|     30|                0.0|                 0.0|           0.0|               0.0|              0|\n",
      "|          0|      2|     31|                0.0|                 0.0|           0.0|               0.0|              0|\n",
      "|          0|      2|     32|                0.0|                 0.0|           0.0|               0.0|              0|\n",
      "|          0|      2|     33|              499.0|               499.0|           1.0|               1.0|              1|\n",
      "|          0|      2|     42|                0.0|                 0.0|           0.0|               0.0|              0|\n",
      "|          0|      2|     45|                0.0|                 0.0|           0.0|               0.0|              0|\n",
      "|          0|      2|     51|                0.0|                 0.0|           0.0|               0.0|              0|\n",
      "|          0|      2|     53|                0.0|                 0.0|           0.0|               0.0|              0|\n",
      "|          0|      2|     57|                0.0|                 0.0|           0.0|               0.0|              0|\n",
      "|          0|      2|     59|                0.0|                 0.0|           0.0|               0.0|              0|\n",
      "+-----------+-------+-------+-------------------+--------------------+--------------+------------------+---------------+\n",
      "only showing top 10 rows\n",
      "\n"
     ]
    },
    {
     "name": "stderr",
     "output_type": "stream",
     "text": [
      "                                                                                \r"
     ]
    }
   ],
   "source": [
    "print(\"10 first samples:\")\n",
    "train_monthly.show(10)"
   ]
  },
  {
   "cell_type": "markdown",
   "metadata": {
    "id": "FyQ8euXHu91F"
   },
   "source": [
    "# Exploratory Data Analysis (EDA)"
   ]
  },
  {
   "cell_type": "code",
   "execution_count": 17,
   "metadata": {
    "colab": {
     "base_uri": "https://localhost:8080/"
    },
    "id": "LcUkYp_6u8lv",
    "outputId": "07c76934-0172-4db8-fc33-97e3b6891143"
   },
   "outputs": [
    {
     "data": {
      "text/plain": [
       "['month_index',\n",
       " 'shop_id',\n",
       " 'item_id',\n",
       " 'all_itemPrice_month',\n",
       " 'mean_itemPrice_month',\n",
       " 'item_cnt_month',\n",
       " 'mean_itemCnt_month',\n",
       " 'days_sold_month',\n",
       " 'month',\n",
       " 'year']"
      ]
     },
     "execution_count": 17,
     "metadata": {},
     "output_type": "execute_result"
    }
   ],
   "source": [
    "train_monthly = (\n",
    "    train_monthly.withColumn(\"month\", train_monthly.month_index % 12)\n",
    "                 .withColumn(\"year\", (train_monthly.month_index / 12).cast(\"int\") + 2013)\n",
    ")\n",
    "\n",
    "train_monthly.columns"
   ]
  },
  {
   "cell_type": "code",
   "execution_count": 18,
   "metadata": {
    "id": "sxRcN8J-u8i7"
   },
   "outputs": [],
   "source": [
    "month_index_means = train_monthly.groupBy(\"month_index\").agg(f.mean(\"item_cnt_month\").alias(\"month_index_mean\")).orderBy(\"month_index\")\n",
    "month_means = train_monthly.groupBy(\"month\").agg(f.mean(\"item_cnt_month\").alias(\"month_mean\")).orderBy(\"month\")"
   ]
  },
  {
   "cell_type": "code",
   "execution_count": 19,
   "metadata": {
    "colab": {
     "base_uri": "https://localhost:8080/",
     "height": 591
    },
    "id": "gYy-k_ttu8fl",
    "outputId": "9b99303a-027c-4cb4-d381-6b85be077702"
   },
   "outputs": [
    {
     "name": "stderr",
     "output_type": "stream",
     "text": [
      "                                                                                \r"
     ]
    }
   ],
   "source": [
    "# Convertir los datos en una lista usando Spark RDD y luego graficarlos con mathplotlib\n",
    "months = range(12)\n",
    "month_indices = range(34)\n",
    "lMonthMean = month_means.rdd.map(lambda row: row.month_mean).collect()\n",
    "lMonthIdxMean = month_index_means.rdd.map(lambda row: row.month_index_mean).collect()"
   ]
  },
  {
   "cell_type": "markdown",
   "metadata": {
    "id": "gta2-aT8va9v"
   },
   "source": [
    "# Feature engineering"
   ]
  },
  {
   "cell_type": "markdown",
   "metadata": {
    "id": "Ajsu4vDivdXr"
   },
   "source": [
    "Después de realizar el preprocesamiento y el análisis, empezaremos a convertir los datos de las series temporales en datos de regresión. En primer lugar, vamos a crear la columna de predicción para nuestros datos.\n",
    "Originalmente, este conjunto de datos utiliza item_cnt_month para la columna objetivo. Sin embargo, como serie temporal, lo que pretendemos predecir es el valor de las ventas del mes siguiente. Para convertir este problema en un problema de regresión, añadimos una columna que diga \"predicción de ventas para el próximo mes\" utilizando las ventas de la fila siguiente a la actual. Esta será nuestra columna objetivo.\n",
    "\n"
   ]
  },
  {
   "cell_type": "code",
   "execution_count": 20,
   "metadata": {
    "id": "LO9mPHPTu8cX"
   },
   "outputs": [],
   "source": [
    "window = Window.orderBy(\"month_index\").partitionBy([\"shop_id\", \"item_id\"])\n",
    "rolling_window = Window.orderBy(\"month_index\").partitionBy([\"shop_id\", \"item_id\"]).rangeBetween(-2, 0)"
   ]
  },
  {
   "cell_type": "code",
   "execution_count": 21,
   "metadata": {
    "id": "g6nvUzdKvaoa"
   },
   "outputs": [],
   "source": [
    "train_monthly = train_monthly.select(\n",
    "    \"*\",\n",
    "    f.lag(\"item_cnt_month\", offset=-1, default=0).over(window).alias(\"itemCnt_nextMonth\")\n",
    ")"
   ]
  },
  {
   "cell_type": "code",
   "execution_count": 22,
   "metadata": {
    "id": "ECnbfhRYpwop"
   },
   "outputs": [],
   "source": [
    "train_monthly = train_monthly.select(\n",
    "    \"*\",\n",
    "    f.lag(\"item_cnt_month\", offset=1, default=0).over(window).alias(\"itemCnt_lag_1\"),\n",
    "    f.lag(\"item_cnt_month\", offset=2, default=0).over(window).alias(\"itemCnt_lag_2\")\n",
    ")"
   ]
  },
  {
   "cell_type": "code",
   "execution_count": 23,
   "metadata": {
    "id": "xBUzZGFRvxCV"
   },
   "outputs": [],
   "source": [
    "# Crear la función itemCnt_trendCycle\n",
    "train_monthly = train_monthly.withColumn(\n",
    "    \"itemCnt_trendCycle\",\n",
    "    (train_monthly.item_cnt_month - train_monthly.itemCnt_lag_1 - train_monthly.itemCnt_lag_2) / 3\n",
    ")"
   ]
  },
  {
   "cell_type": "code",
   "execution_count": 24,
   "metadata": {
    "id": "R4YofJhqvxFS"
   },
   "outputs": [],
   "source": [
    "train_monthly = (train_monthly.withColumn(\"item_cnt_min\", f.min(\"item_cnt_month\").over(rolling_window))\n",
    "                              .withColumn(\"item_cnt_max\", f.max(\"item_cnt_month\").over(rolling_window))\n",
    "                              .withColumn(\"item_cnt_mean\", f.mean(\"item_cnt_month\").over(rolling_window))\n",
    "                              .withColumn(\"item_cnt_std\", f.stddev(\"item_cnt_month\").over(rolling_window))\n",
    ")"
   ]
  },
  {
   "cell_type": "code",
   "execution_count": 25,
   "metadata": {
    "id": "gTAJKpBtvxIt"
   },
   "outputs": [],
   "source": [
    "train_monthly = train_monthly.fillna(0)"
   ]
  },
  {
   "cell_type": "code",
   "execution_count": 26,
   "metadata": {
    "colab": {
     "base_uri": "https://localhost:8080/"
    },
    "id": "L6HJS9RTvxMq",
    "outputId": "88188cf6-3bd1-454b-c25a-1043a15260af"
   },
   "outputs": [
    {
     "name": "stdout",
     "output_type": "stream",
     "text": [
      "First 10 samples:\n"
     ]
    },
    {
     "name": "stderr",
     "output_type": "stream",
     "text": [
      "                                                                                \r"
     ]
    },
    {
     "name": "stdout",
     "output_type": "stream",
     "text": [
      "+-----------+-------+-------+-------------------+--------------------+--------------+------------------+---------------+-----+----+-----------------+-------------+-------------+-------------------+------------+------------+------------------+------------------+\n",
      "|month_index|shop_id|item_id|all_itemPrice_month|mean_itemPrice_month|item_cnt_month|mean_itemCnt_month|days_sold_month|month|year|itemCnt_nextMonth|itemCnt_lag_1|itemCnt_lag_2| itemCnt_trendCycle|item_cnt_min|item_cnt_max|     item_cnt_mean|      item_cnt_std|\n",
      "+-----------+-------+-------+-------------------+--------------------+--------------+------------------+---------------+-----+----+-----------------+-------------+-------------+-------------------+------------+------------+------------------+------------------+\n",
      "|          0|      2|     31|                0.0|                 0.0|           0.0|               0.0|              0|    0|2013|              4.0|          0.0|          0.0|                0.0|         0.0|         0.0|               0.0|               0.0|\n",
      "|          1|      2|     31|             2796.0|               699.0|           4.0|               1.0|              4|    1|2013|              1.0|          0.0|          0.0| 1.3333333333333333|         0.0|         4.0|               2.0|2.8284271247461903|\n",
      "|          2|      2|     31|              698.5|               698.5|           1.0|               1.0|              1|    2|2013|              1.0|          4.0|          0.0|               -1.0|         0.0|         4.0|1.6666666666666667|2.0816659994661326|\n",
      "|          3|      2|     31|              699.0|               699.0|           1.0|               1.0|              1|    3|2013|              0.0|          1.0|          4.0|-1.3333333333333333|         1.0|         4.0|               2.0|1.7320508075688772|\n",
      "|          4|      2|     31|                0.0|                 0.0|           0.0|               0.0|              0|    4|2013|              0.0|          1.0|          1.0|-0.6666666666666666|         0.0|         1.0|0.6666666666666666|0.5773502691896258|\n",
      "|          5|      2|     31|                0.0|                 0.0|           0.0|               0.0|              0|    5|2013|              0.0|          0.0|          1.0|-0.3333333333333333|         0.0|         1.0|0.3333333333333333|0.5773502691896258|\n",
      "|          6|      2|     31|                0.0|                 0.0|           0.0|               0.0|              0|    6|2013|              0.0|          0.0|          0.0|                0.0|         0.0|         0.0|               0.0|               0.0|\n",
      "|          7|      2|     31|                0.0|                 0.0|           0.0|               0.0|              0|    7|2013|              0.0|          0.0|          0.0|                0.0|         0.0|         0.0|               0.0|               0.0|\n",
      "|          8|      2|     31|                0.0|                 0.0|           0.0|               0.0|              0|    8|2013|              0.0|          0.0|          0.0|                0.0|         0.0|         0.0|               0.0|               0.0|\n",
      "|          9|      2|     31|                0.0|                 0.0|           0.0|               0.0|              0|    9|2013|              0.0|          0.0|          0.0|                0.0|         0.0|         0.0|               0.0|               0.0|\n",
      "+-----------+-------+-------+-------------------+--------------------+--------------+------------------+---------------+-----+----+-----------------+-------------+-------------+-------------------+------------+------------+------------------+------------------+\n",
      "only showing top 10 rows\n",
      "\n",
      "Summary:\n"
     ]
    },
    {
     "name": "stderr",
     "output_type": "stream",
     "text": [
      "[Stage 163:>                                                        (0 + 1) / 1]\r"
     ]
    },
    {
     "name": "stdout",
     "output_type": "stream",
     "text": [
      "+-------+-----------------+------------------+------------------+-------------------+--------------------+------------------+-------------------+------------------+-----------------+------+-------------------+------------------+------------------+--------------------+-------------------+------------------+------------------+-------------------+\n",
      "|summary|      month_index|           shop_id|           item_id|all_itemPrice_month|mean_itemPrice_month|    item_cnt_month| mean_itemCnt_month|   days_sold_month|            month|  year|  itemCnt_nextMonth|     itemCnt_lag_1|     itemCnt_lag_2|  itemCnt_trendCycle|       item_cnt_min|      item_cnt_max|     item_cnt_mean|       item_cnt_std|\n",
      "+-------+-----------------+------------------+------------------+-------------------+--------------------+------------------+-------------------+------------------+-----------------+------+-------------------+------------------+------------------+--------------------+-------------------+------------------+------------------+-------------------+\n",
      "|  count|           563880|            563880|            563880|             563880|              563880|            563880|             563880|            563880|           563880|563880|             563880|            563880|            563880|              563880|             563880|            563880|            563880|             563880|\n",
      "|   mean|              4.5| 30.35135135135135|10567.628608923884|  260.6523067653168|   108.2064053057548|0.5024863446123289|0.18075827572214231|0.3602894232815493|              4.5|2013.0|0.46582783570972547|0.4539086330424913|0.3773001347804497|-0.10957414107020409|0.18679506277931474|0.8598815350783855| 0.481683455108662|0.37460936211580775|\n",
      "| stddev|2.872283870162985|18.191514317512468| 6272.682880624515| 1484.1666427581386|    391.023050829417|5.0745062888188786| 0.5416126042657443|1.3285151152175594|2.872283870162985|   0.0|  5.037611765645876|4.8501214524573975| 4.090155300494808|  2.1206268359385487|    2.6560797720065| 6.566765540664365| 4.056610841910073| 2.9703207991245595|\n",
      "|    min|                0|                 2|                30|                0.0|                 0.0|               0.0|                0.0|                 0|                0|  2013|                0.0|               0.0|               0.0|  -520.6666666666666|                0.0|               0.0|               0.0|                0.0|\n",
      "|    25%|                2|                15|              4907|                0.0|                 0.0|               0.0|                0.0|                 0|                2|  2013|                0.0|               0.0|               0.0|                 0.0|                0.0|               0.0|               0.0|                0.0|\n",
      "|    50%|                4|                28|             10721|                0.0|                 0.0|               0.0|                0.0|                 0|                4|  2013|                0.0|               0.0|               0.0|                 0.0|                0.0|               0.0|               0.0|                0.0|\n",
      "|    75%|                7|                46|             15735|                0.0|                 0.0|               0.0|                0.0|                 0|                7|  2013|                0.0|               0.0|               0.0|                 0.0|                0.0|               1.0|0.3333333333333333| 0.5773502691896258|\n",
      "|    max|                9|                59|             22167|    102356.33333333|             14200.0|             799.0|              115.0|                31|                9|  2013|              799.0|             799.0|             799.0|               226.0|              575.0|             799.0| 649.3333333333334|   461.302865082511|\n",
      "+-------+-----------------+------------------+------------------+-------------------+--------------------+------------------+-------------------+------------------+-----------------+------+-------------------+------------------+------------------+--------------------+-------------------+------------------+------------------+-------------------+\n",
      "\n"
     ]
    },
    {
     "name": "stderr",
     "output_type": "stream",
     "text": [
      "                                                                                \r"
     ]
    }
   ],
   "source": [
    "print(\"First 10 samples:\")\n",
    "train_monthly.show(10)\n",
    "print(\"Summary:\")\n",
    "train_monthly.summary().show()"
   ]
  },
  {
   "cell_type": "markdown",
   "metadata": {
    "id": "_Ko4iWv5v8CB"
   },
   "source": [
    "# Train-Validation Split"
   ]
  },
  {
   "cell_type": "code",
   "execution_count": 27,
   "metadata": {
    "id": "XX4WOe-pvxQd"
   },
   "outputs": [],
   "source": [
    "# Dividimos nuestros datos en 3 conjuntos\n",
    "train_set = train_monthly.where(\"month_index > 1 and month_index < 7\")#7\n",
    "validation_set = train_monthly.where(\"month_index >= 7 and month_index < 9\")#9\n",
    "test_set = train_monthly.where(\"month_index >= 9\")\n",
    "\n",
    "# Eliminar las filas con valores nulos\n",
    "train_set = train_set.dropna()\n",
    "validation_set = validation_set.dropna()"
   ]
  },
  {
   "cell_type": "code",
   "execution_count": 28,
   "metadata": {
    "id": "Wyeog-f-v_4b"
   },
   "outputs": [],
   "source": [
    "# Agrega la codificación media de las características categóricas\n",
    "shop_mean = train_set.groupBy(\"shop_id\").agg(f.mean(\"itemCnt_nextMonth\").alias(\"shop_mean\"))\n",
    "item_mean = train_set.groupBy(\"item_id\").agg(f.mean(\"itemCnt_nextMonth\").alias(\"item_mean\"))\n",
    "year_mean = train_set.groupBy(\"year\").agg(f.mean(\"itemCnt_nextMonth\").alias(\"year_mean\"))\n",
    "month_mean = train_set.groupBy(\"month\").agg(f.mean(\"itemCnt_nextMonth\").alias(\"month_mean\"))"
   ]
  },
  {
   "cell_type": "code",
   "execution_count": 29,
   "metadata": {
    "id": "0Ec4gnRZvxTq"
   },
   "outputs": [],
   "source": [
    "# Añadir la característica de codificación media derivada del conjunto de entrenamiento a todos los conjuntos\n",
    "# Conjunto de entrenamiento\n",
    "train_set = train_set.join(shop_mean, [\"shop_id\"], \"left\")\n",
    "train_set = train_set.join(item_mean, [\"item_id\"], \"left\")\n",
    "train_set = train_set.join(year_mean, [\"year\"], \"left\")\n",
    "train_set = train_set.join(month_mean, [\"month\"], \"left\")\n",
    "train_set = train_set.withColumn(\"itemCnt_nextMonth\", f.col(\"itemCnt_nextMonth\").cast(\"int\"))\n",
    "train_set = train_set.drop(\"month_index\") # Suprima esta columna porque ya tenemos la codificación media de los meses y los años\n",
    "\n",
    "# Conjunto de validación\n",
    "validation_set = validation_set.join(shop_mean, [\"shop_id\"], \"left\")\n",
    "validation_set = validation_set.join(item_mean, [\"item_id\"], \"left\")\n",
    "validation_set = validation_set.join(year_mean, [\"year\"], \"left\")\n",
    "validation_set = validation_set.join(month_mean, [\"month\"], \"left\")\n",
    "validation_set = validation_set.withColumn(\"itemCnt_nextMonth\", f.col(\"itemCnt_nextMonth\").cast(\"int\"))\n",
    "validation_set = validation_set.drop(\"month_index\")\n",
    "\n",
    "# Conjunto de pruebas\n",
    "test_set = test_set.join(shop_mean, [\"shop_id\"], \"left\")\n",
    "test_set = test_set.join(item_mean, [\"item_id\"], \"left\")\n",
    "test_set = test_set.join(year_mean, [\"year\"], \"left\")\n",
    "test_set = test_set.join(month_mean, [\"month\"], \"left\")\n",
    "test_set = test_set.withColumn(\"itemCnt_nextMonth\", f.col(\"itemCnt_nextMonth\").cast(\"int\"))\n",
    "test_set = test_set.drop(\"itemCnt_nextMonth\")\n",
    "test_set = test_set.drop(\"month_index\")\n",
    "\n",
    "# Añadir productos que nunca existen en los datos de formación durante la fase de generación de la combinación de registros, pero sí en los datos de prueba\n",
    "test_columns = test_set.columns\n",
    "test_set = test.join(test_set, on=[\"shop_id\", \"item_id\"], how=\"left\")\n",
    "\n",
    "# Reordenar las columnas de los 3 conjuntos para que coincidan entre sí\n",
    "train_set = train_set.select(sorted(train_set.columns))\n",
    "validation_set = validation_set.select(sorted(train_set.columns))\n",
    "test_set = test_set.select(sorted(test_columns))\n",
    "\n",
    "# Rellenar todos los valores nulos con 0\n",
    "train_set = train_set.fillna(0)\n",
    "validation_set = validation_set.fillna(0)\n",
    "test_set = test_set.fillna(0)"
   ]
  },
  {
   "cell_type": "code",
   "execution_count": 30,
   "metadata": {
    "colab": {
     "base_uri": "https://localhost:8080/"
    },
    "id": "cSv8IirgwNlF",
    "outputId": "95bd32a0-d383-4b0f-ae75-026556cfa872"
   },
   "outputs": [
    {
     "name": "stdout",
     "output_type": "stream",
     "text": [
      "root\n",
      " |-- all_itemPrice_month: double (nullable = false)\n",
      " |-- days_sold_month: long (nullable = true)\n",
      " |-- itemCnt_lag_1: double (nullable = false)\n",
      " |-- itemCnt_lag_2: double (nullable = false)\n",
      " |-- itemCnt_nextMonth: integer (nullable = true)\n",
      " |-- itemCnt_trendCycle: double (nullable = false)\n",
      " |-- item_cnt_max: double (nullable = false)\n",
      " |-- item_cnt_mean: double (nullable = false)\n",
      " |-- item_cnt_min: double (nullable = false)\n",
      " |-- item_cnt_month: double (nullable = false)\n",
      " |-- item_cnt_std: double (nullable = false)\n",
      " |-- item_id: integer (nullable = true)\n",
      " |-- item_mean: double (nullable = false)\n",
      " |-- mean_itemCnt_month: double (nullable = false)\n",
      " |-- mean_itemPrice_month: double (nullable = false)\n",
      " |-- month: integer (nullable = true)\n",
      " |-- month_mean: double (nullable = false)\n",
      " |-- shop_id: integer (nullable = true)\n",
      " |-- shop_mean: double (nullable = false)\n",
      " |-- year: integer (nullable = true)\n",
      " |-- year_mean: double (nullable = false)\n",
      "\n",
      "root\n",
      " |-- all_itemPrice_month: double (nullable = false)\n",
      " |-- days_sold_month: long (nullable = true)\n",
      " |-- itemCnt_lag_1: double (nullable = false)\n",
      " |-- itemCnt_lag_2: double (nullable = false)\n",
      " |-- itemCnt_nextMonth: integer (nullable = true)\n",
      " |-- itemCnt_trendCycle: double (nullable = false)\n",
      " |-- item_cnt_max: double (nullable = false)\n",
      " |-- item_cnt_mean: double (nullable = false)\n",
      " |-- item_cnt_min: double (nullable = false)\n",
      " |-- item_cnt_month: double (nullable = false)\n",
      " |-- item_cnt_std: double (nullable = false)\n",
      " |-- item_id: integer (nullable = true)\n",
      " |-- item_mean: double (nullable = false)\n",
      " |-- mean_itemCnt_month: double (nullable = false)\n",
      " |-- mean_itemPrice_month: double (nullable = false)\n",
      " |-- month: integer (nullable = true)\n",
      " |-- month_mean: double (nullable = false)\n",
      " |-- shop_id: integer (nullable = true)\n",
      " |-- shop_mean: double (nullable = false)\n",
      " |-- year: integer (nullable = true)\n",
      " |-- year_mean: double (nullable = false)\n",
      "\n",
      "root\n",
      " |-- all_itemPrice_month: double (nullable = false)\n",
      " |-- days_sold_month: long (nullable = true)\n",
      " |-- itemCnt_lag_1: double (nullable = false)\n",
      " |-- itemCnt_lag_2: double (nullable = false)\n",
      " |-- itemCnt_trendCycle: double (nullable = false)\n",
      " |-- item_cnt_max: double (nullable = false)\n",
      " |-- item_cnt_mean: double (nullable = false)\n",
      " |-- item_cnt_min: double (nullable = false)\n",
      " |-- item_cnt_month: double (nullable = false)\n",
      " |-- item_cnt_std: double (nullable = false)\n",
      " |-- item_id: integer (nullable = true)\n",
      " |-- item_mean: double (nullable = false)\n",
      " |-- mean_itemCnt_month: double (nullable = false)\n",
      " |-- mean_itemPrice_month: double (nullable = false)\n",
      " |-- month: integer (nullable = true)\n",
      " |-- month_mean: double (nullable = false)\n",
      " |-- shop_id: integer (nullable = true)\n",
      " |-- shop_mean: double (nullable = false)\n",
      " |-- year: integer (nullable = true)\n",
      " |-- year_mean: double (nullable = false)\n",
      "\n"
     ]
    }
   ],
   "source": [
    "train_set.printSchema()\n",
    "validation_set.printSchema()\n",
    "test_set.printSchema()"
   ]
  },
  {
   "cell_type": "code",
   "execution_count": 31,
   "metadata": {
    "id": "GThsmrolwNoq"
   },
   "outputs": [],
   "source": [
    "# Reestructurar el conjunto de entrenamiento\n",
    "inputColumns = train_set.drop(\"itemCnt_nextMonth\").columns\n",
    "assembler1 = VectorAssembler(inputCols=inputColumns, outputCol=\"features\")\n",
    "train_assembled = assembler1.transform(train_set).select([\"features\", \"itemCnt_nextMonth\"])\n",
    "\n",
    "# Reestructurar el conjunto de validación\n",
    "inputColumns = validation_set.drop(\"itemCnt_nextMonth\").columns\n",
    "assembler2 = VectorAssembler(inputCols=inputColumns, outputCol=\"features\")\n",
    "validation_assembled = assembler2.transform(validation_set).select([\"features\", \"itemCnt_nextMonth\"])\n",
    "\n",
    "# Reestructurar el conjunto de pruebas\n",
    "inputColumns = test_set.columns\n",
    "assembler3 = VectorAssembler(inputCols=inputColumns, outputCol=\"features\")\n",
    "test_assembled = assembler3.transform(test_set).select([\"features\"])"
   ]
  },
  {
   "cell_type": "code",
   "execution_count": 32,
   "metadata": {
    "colab": {
     "base_uri": "https://localhost:8080/"
    },
    "id": "7j7UjmhowNrv",
    "outputId": "6ad337af-eba6-4069-dc9d-525c799b5d2c"
   },
   "outputs": [
    {
     "name": "stdout",
     "output_type": "stream",
     "text": [
      "root\n",
      " |-- features: vector (nullable = true)\n",
      " |-- itemCnt_nextMonth: integer (nullable = true)\n",
      "\n",
      "root\n",
      " |-- features: vector (nullable = true)\n",
      " |-- itemCnt_nextMonth: integer (nullable = true)\n",
      "\n",
      "root\n",
      " |-- features: vector (nullable = true)\n",
      "\n"
     ]
    }
   ],
   "source": [
    "# Comprueba de nuevo el esquema\n",
    "train_assembled.printSchema()\n",
    "validation_assembled.printSchema()\n",
    "test_assembled.printSchema()"
   ]
  },
  {
   "cell_type": "code",
   "execution_count": 33,
   "metadata": {
    "id": "LRLbSmnv2wsG"
   },
   "outputs": [
    {
     "name": "stderr",
     "output_type": "stream",
     "text": [
      "                                                                                \r"
     ]
    }
   ],
   "source": [
    "train_maxVal = train_set.groupby().max('itemCnt_nextMonth').collect()[0].asDict()['max(itemCnt_nextMonth)']\n",
    "train_minVal = train_set.groupby().min('itemCnt_nextMonth').collect()[0].asDict()['min(itemCnt_nextMonth)']\n",
    "validation_maxVal = validation_set.groupby().max('itemCnt_nextMonth').collect()[0].asDict()['max(itemCnt_nextMonth)']\n",
    "validation_minVal = validation_set.groupby().min('itemCnt_nextMonth').collect()[0].asDict()['min(itemCnt_nextMonth)']"
   ]
  },
  {
   "cell_type": "markdown",
   "metadata": {
    "id": "GMAxDm7EwY4j"
   },
   "source": [
    "# Modelando los datos\n",
    "Ahora podemos utilizar modelos de aprendizaje automático para realizar una regresión sobre los datos procesados."
   ]
  },
  {
   "cell_type": "markdown",
   "metadata": {
    "id": "Mwx1JE9KwcTT"
   },
   "source": [
    "### Regresión lineal\n",
    "En primer lugar, debemos reescalar/normalizar las características. Este es un paso necesario para la regresión lineal."
   ]
  },
  {
   "cell_type": "code",
   "execution_count": 34,
   "metadata": {
    "id": "ugCSl50YwYt8",
    "scrolled": true
   },
   "outputs": [
    {
     "name": "stderr",
     "output_type": "stream",
     "text": [
      "22/05/23 23:35:55 WARN package: Truncated the string representation of a plan since it was too large. This behavior can be adjusted by setting 'spark.sql.debug.maxToStringFields'.\n",
      "22/05/23 23:36:04 WARN RowBasedKeyValueBatch: Calling spill() on RowBasedKeyValueBatch. Will not spill but return 0.\n",
      "                                                                                \r"
     ]
    }
   ],
   "source": [
    "# Reescalar el conjunto de entrenamiento\n",
    "scaler = StandardScaler(inputCol=\"features\", outputCol=\"scaledFeatures\")\n",
    "scaler_model = scaler.fit(train_assembled)\n",
    "train_scaled = scaler_model.transform(train_assembled).select([\"scaledFeatures\", \"itemCnt_nextMonth\"])\n",
    "\n",
    "# Reescalar el conjunto de validación\n",
    "scaler = StandardScaler(inputCol=\"features\", outputCol=\"scaledFeatures\")\n",
    "scaler_model = scaler.fit(validation_assembled)\n",
    "validation_scaled = scaler_model.transform(validation_assembled).select([\"scaledFeatures\", \"itemCnt_nextMonth\"])\n",
    "\n"
   ]
  },
  {
   "cell_type": "markdown",
   "metadata": {
    "id": "NOHTZP6hxD6q"
   },
   "source": [
    " Antes de utilizar la regresión lineal, deberíamos utilizar un selector de características para reducir la dimensionalidad de los datos, lo que reducirá el tiempo de entrenamiento y el exceso de ajuste. Aquí utilizaremos el selector de características univariante para seleccionar el 30% de las mejores características del conjunto de entrenamiento. El selector se ajustará al conjunto de entrenamiento, y luego lo utilizaremos para transformar tanto el conjunto de entrenamiento como el de validación.\n",
    "\n"
   ]
  },
  {
   "cell_type": "code",
   "execution_count": 35,
   "metadata": {
    "id": "bEnPqaFhwkbC"
   },
   "outputs": [
    {
     "name": "stderr",
     "output_type": "stream",
     "text": [
      "                                                                                \r"
     ]
    }
   ],
   "source": [
    "selector = UnivariateFeatureSelector(featuresCol=\"scaledFeatures\", outputCol=\"selectedFeatures\", labelCol=\"itemCnt_nextMonth\", selectionMode=\"percentile\")\n",
    "selector.setFeatureType(\"continuous\").setLabelType(\"continuous\").setSelectionThreshold(0.3)\n",
    "selector_model = selector.fit(train_scaled)\n",
    "train_selected = selector_model.transform(train_scaled).select([\"selectedFeatures\", \"itemCnt_nextMonth\"])\n",
    "validation_selected = selector_model.transform(validation_scaled).select([\"selectedFeatures\", \"itemCnt_nextMonth\"])"
   ]
  },
  {
   "cell_type": "code",
   "execution_count": 36,
   "metadata": {
    "colab": {
     "base_uri": "https://localhost:8080/"
    },
    "id": "Q7izhqMLwn-K",
    "outputId": "cade23d3-a050-4040-90c6-403c21365a34"
   },
   "outputs": [
    {
     "name": "stderr",
     "output_type": "stream",
     "text": [
      "                                                                                \r"
     ]
    },
    {
     "data": {
      "text/plain": [
       "DenseVector([7.417, 18.9685, 25.64, 0.0, -9.4305, 18.2747])"
      ]
     },
     "execution_count": 36,
     "metadata": {},
     "output_type": "execute_result"
    }
   ],
   "source": [
    "train_selected.head().selectedFeatures"
   ]
  },
  {
   "cell_type": "markdown",
   "metadata": {
    "id": "lYyG8NMlxRvE"
   },
   "source": [
    "\n",
    "\n",
    "\n",
    "Así que se han seleccionado 6 características de entre las 20 del conjunto de entrenamiento. Utilizaremos la característica seleccionada para entrenar el modelo de regresión lineal.\n",
    "\n",
    "\n",
    "\n"
   ]
  },
  {
   "cell_type": "code",
   "execution_count": 37,
   "metadata": {
    "id": "pAIymR_EwNuW"
   },
   "outputs": [
    {
     "name": "stderr",
     "output_type": "stream",
     "text": [
      "22/05/23 23:39:09 WARN RowBasedKeyValueBatch: Calling spill() on RowBasedKeyValueBatch. Will not spill but return 0.\n",
      "22/05/23 23:39:11 WARN InstanceBuilder$NativeBLAS: Failed to load implementation from:dev.ludovic.netlib.blas.JNIBLAS\n",
      "22/05/23 23:39:11 WARN InstanceBuilder$NativeBLAS: Failed to load implementation from:dev.ludovic.netlib.blas.ForeignLinkerBLAS\n",
      "                                                                                \r"
     ]
    }
   ],
   "source": [
    "lr = LinearRegression(featuresCol=\"selectedFeatures\", labelCol=\"itemCnt_nextMonth\", regParam=0.3, elasticNetParam=0.3, maxIter=10)\n",
    "lr_model = lr.fit(train_selected)"
   ]
  },
  {
   "cell_type": "code",
   "execution_count": 38,
   "metadata": {
    "colab": {
     "base_uri": "https://localhost:8080/"
    },
    "id": "8UbXOlNHwtAA",
    "outputId": "b26f70b7-24eb-4f25-9ce5-5737048752f2"
   },
   "outputs": [
    {
     "name": "stdout",
     "output_type": "stream",
     "text": [
      "Train RMSE: 3.821472856889721\n",
      "Train Adjusted R2: 0.4995803404890903\n"
     ]
    }
   ],
   "source": [
    "trainingSummary = lr_model.summary\n",
    "print(\"Train RMSE:\", trainingSummary.rootMeanSquaredError)\n",
    "print(\"Train Adjusted R2:\", trainingSummary.r2adj)"
   ]
  },
  {
   "cell_type": "markdown",
   "metadata": {
    "id": "ZXBV7odl2UwX"
   },
   "source": [
    "El valor R2 ajustado indica que aproximadamente el 54,9% ~ 55% de los registros de nuestro conjunto de entrenamiento pueden utilizarse para explicar los registros objetivo. Esto se debe a que originalmente llenamos nuestro conjunto de entrenamiento con muchos registros vacíos utilizando las combinaciones de (month_index, shop_id, item_id). Mientras el valor R2 ajustado sea superior al 50%, podemos considerar que nuestro modelo es lo suficientemente bueno para la evaluación.\n",
    "Para entender mejor el valor de RMSE, lo normalizamos con respecto al rango de resultados del conjunto de entrenamiento (máximo y mínimo de itemCnt_nextMonth). Esto escalará el RMSE entre 0 y 1. Cuanto más cerca esté de 0, más se ajusta nuestro modelo, pero si es completamente 0, significa que el modelo está sobreajustado por lo que debemos tener cuidado."
   ]
  },
  {
   "cell_type": "code",
   "execution_count": 39,
   "metadata": {
    "colab": {
     "base_uri": "https://localhost:8080/"
    },
    "id": "Qjr-C915wtCv",
    "outputId": "15198edd-9c23-4ca9-c228-c72994981c17"
   },
   "outputs": [
    {
     "name": "stdout",
     "output_type": "stream",
     "text": [
      "Normalized RMSE: 0.004782819595606659\n"
     ]
    }
   ],
   "source": [
    "print(\"Normalized RMSE:\", trainingSummary.rootMeanSquaredError / (train_maxVal - train_minVal))"
   ]
  },
  {
   "cell_type": "markdown",
   "metadata": {
    "id": "frYYIW9R7FEM"
   },
   "source": [
    "Parece que el error normalizado en el conjunto de entrenamiento es bastante pequeño. Eso significa que nuestro modelo es lo suficientemente bueno. Ahora vamos a probarlo en el conjunto de validación."
   ]
  },
  {
   "cell_type": "code",
   "execution_count": 40,
   "metadata": {
    "colab": {
     "base_uri": "https://localhost:8080/"
    },
    "id": "piwmhPCgwtF6",
    "outputId": "ed4e9808-3873-4d31-986a-a16af564f3da"
   },
   "outputs": [
    {
     "name": "stderr",
     "output_type": "stream",
     "text": [
      "[Stage 803:>                                                        (0 + 1) / 1]\r"
     ]
    },
    {
     "name": "stdout",
     "output_type": "stream",
     "text": [
      "Validation RMSE: 5.564923944753682\n"
     ]
    },
    {
     "name": "stderr",
     "output_type": "stream",
     "text": [
      "                                                                                \r"
     ]
    }
   ],
   "source": [
    "# Dejamos que el modelo prediga el conjunto de validación\n",
    "lr_predictions = lr_model.transform(validation_selected)\n",
    "\n",
    "# Utilizamos un evaluador de regresión para evaluar los resultados de la predicción\n",
    "lr_evaluator = RegressionEvaluator(predictionCol=\"prediction\", labelCol=\"itemCnt_nextMonth\",metricName=\"rmse\")\n",
    "validation_rmse = lr_evaluator.evaluate(lr_predictions)\n",
    "print(\"Validation RMSE:\", validation_rmse)\n"
   ]
  },
  {
   "cell_type": "markdown",
   "metadata": {
    "id": "g5HrUTw67KCL"
   },
   "source": [
    "De nuevo, normalicemos este error para tener una mejor comprensión de la evaluación."
   ]
  },
  {
   "cell_type": "code",
   "execution_count": 41,
   "metadata": {
    "colab": {
     "base_uri": "https://localhost:8080/"
    },
    "id": "d-MWgztCwtIn",
    "outputId": "c617bd17-91b1-4d71-b874-721b08c9a0c7"
   },
   "outputs": [
    {
     "name": "stdout",
     "output_type": "stream",
     "text": [
      "Normalized validation RMSE: 0.00728393186486084\n"
     ]
    }
   ],
   "source": [
    "print(\"Normalized validation RMSE:\", validation_rmse / (validation_maxVal - validation_minVal))"
   ]
  },
  {
   "cell_type": "markdown",
   "metadata": {
    "id": "6BfufxDQ6-_X"
   },
   "source": [
    "Por lo tanto, podemos ver que con el RMSE normalizado muy cercano a 0, el modelo de regresión lineal está suficientemente bien ajustado. Dado que el RMSE del conjunto de validación es ligeramente superior al del conjunto de entrenamiento, es posible que haya un exceso de ajuste, pero la diferencia es lo suficientemente pequeña."
   ]
  },
  {
   "cell_type": "markdown",
   "metadata": {},
   "source": [
    "### Random Forest Regression  \n",
    "A diferencia de la regresión lineal, el bosque aleatorio puede hacer una selección de características de forma inherente, por lo que sólo tenemos que entrenarlo con todas las características reunidas."
   ]
  },
  {
   "cell_type": "code",
   "execution_count": 42,
   "metadata": {},
   "outputs": [
    {
     "name": "stderr",
     "output_type": "stream",
     "text": [
      "                                                                                \r"
     ]
    }
   ],
   "source": [
    "rf = RandomForestRegressor(featuresCol=\"features\", labelCol=\"itemCnt_nextMonth\", numTrees=50, maxDepth=7)\n",
    "rf_model = rf.fit(train_assembled)"
   ]
  },
  {
   "cell_type": "markdown",
   "metadata": {},
   "source": [
    "Como el regresor de bosque aleatorio de PySpark no puede dar el resumen de entrenamiento, pasaremos a la fase de evaluación."
   ]
  },
  {
   "cell_type": "code",
   "execution_count": 43,
   "metadata": {},
   "outputs": [
    {
     "name": "stderr",
     "output_type": "stream",
     "text": [
      "[Stage 964:>                                                        (0 + 2) / 2]\r"
     ]
    },
    {
     "name": "stdout",
     "output_type": "stream",
     "text": [
      "Validation RMSE: 5.175559578176212\n",
      "Normalized validation RMSE: 0.0067742926415919\n"
     ]
    },
    {
     "name": "stderr",
     "output_type": "stream",
     "text": [
      "                                                                                \r"
     ]
    }
   ],
   "source": [
    "# Utilizar el modelo para predecir en el conjunto de validación\n",
    "rf_predictions = rf_model.transform(validation_assembled)\n",
    "\n",
    "# Utilice un evaluador de regresión para evaluar los resultados de la predicción\n",
    "rf_evaluator = RegressionEvaluator(predictionCol=\"prediction\", labelCol=\"itemCnt_nextMonth\",metricName=\"rmse\")\n",
    "rf_validation_rmse = rf_evaluator.evaluate(rf_predictions)\n",
    "print(\"Validation RMSE:\", rf_validation_rmse)\n",
    "print(\"Normalized validation RMSE:\", rf_validation_rmse / (validation_maxVal - validation_minVal))"
   ]
  },
  {
   "cell_type": "markdown",
   "metadata": {},
   "source": [
    "Podemos ver que el RMSE de validación y el RMSE normalizado de este modelo es menor que el RMSE de validación anterior. Parece que el modelo de regresión de Random Forest es mejor que el modelo de regresión lineal. Veamos qué importancia da el modelo de bosque aleatorio a cada característica."
   ]
  },
  {
   "cell_type": "code",
   "execution_count": 44,
   "metadata": {},
   "outputs": [
    {
     "data": {
      "image/png": "[encoded data removed]",
      "text/plain": [
       "<Figure size 432x288 with 1 Axes>"
      ]
     },
     "metadata": {
      "needs_background": "light"
     },
     "output_type": "display_data"
    }
   ],
   "source": [
    "# Obtener la lista de importancia de las características del bosque aleatorio\n",
    "importance = rf_model.featureImportances\n",
    "\n",
    "# Dibuja un gráfico de barras para ver las características\n",
    "inputColumns = train_set.columns.copy()\n",
    "inputColumns.remove(\"itemCnt_nextMonth\")\n",
    "plt.barh(inputColumns, importance)\n",
    "plt.title(\"Feature Importances\")\n",
    "plt.ylabel(\"Feature\")\n",
    "plt.xlabel(\"Importance\")\n",
    "plt.show()"
   ]
  },
  {
   "cell_type": "markdown",
   "metadata": {},
   "source": [
    "El modelo Random Forest determina que el número de ventas del mes actual (days_sold_month) es la característica más importante, lo que es correcto con el funcionamiento de la serie temporal. Las siguientes 4 características más importantes son:  \n",
    "- Codificación media del identificador de la tienda (shop_mean),  \n",
    "- Las características basadas en la ventana móvil para la moda en cuestión y su precio a lo largo del mes (itemCnt_trendCycle, all_itemPrice_month),  \n",
    "- El número de días del mes en que se vende un producto (item_cnt_month)."
   ]
  },
  {
   "cell_type": "code",
   "execution_count": 45,
   "metadata": {},
   "outputs": [],
   "source": [
    "# Hacer una predicción\n",
    "november_predictions = rf_model.transform(test_assembled)"
   ]
  },
  {
   "cell_type": "code",
   "execution_count": 46,
   "metadata": {},
   "outputs": [
    {
     "name": "stderr",
     "output_type": "stream",
     "text": [
      "                                                                                \r"
     ]
    },
    {
     "name": "stdout",
     "output_type": "stream",
     "text": [
      "+-------+-------+-------------------+\n",
      "|shop_id|item_id|    days_sold_month|\n",
      "+-------+-------+-------------------+\n",
      "|      5|   4055|0.06652470351035548|\n",
      "|      5|  10449|0.06652470351035548|\n",
      "|      5|   7931|0.06652470351035548|\n",
      "|      5|  15285|0.06932351070006301|\n",
      "|      5|   1246|0.06652470351035548|\n",
      "|      5|  15553|0.06932351070006301|\n",
      "|      5|  21881|0.06932351070006301|\n",
      "|      5|   4895|0.06652470351035548|\n",
      "|      5|   6674|0.06652470351035548|\n",
      "|      5|  10448|0.06652470351035548|\n",
      "|      5|   5896| 1.3921043330985545|\n",
      "|      5|  10324|0.07050270294107858|\n",
      "|      5|   7655|0.06652470351035548|\n",
      "|      5|  10653|0.07050270294107858|\n",
      "|      5|  11323|0.07967641990312506|\n",
      "|      5|  20377| 0.0824752270928326|\n",
      "|      5|   6630|0.06652470351035548|\n",
      "|      5|   6523|0.06652470351035548|\n",
      "|      5|  10750|0.06652470351035548|\n",
      "|      5|  11574|0.07050270294107858|\n",
      "+-------+-------+-------------------+\n",
      "only showing top 20 rows\n",
      "\n"
     ]
    }
   ],
   "source": [
    "# Obtener las columnas shop_id, item_id y resultado de la predicción del conjunto de pruebas ensamblado\n",
    "results = (november_predictions\n",
    "    .withColumn(\"feature\", vector_to_array(\"features\"))\n",
    "    .select([f.col(\"feature\")[i] for i in [16, 10]] + [\"prediction\"])\n",
    "    .withColumnRenamed(\"feature[16]\", \"shop_id\")\n",
    "    .withColumnRenamed(\"feature[10]\", \"item_id\")\n",
    "    .withColumnRenamed(\"prediction\", \"days_sold_month\")\n",
    "    .withColumn(\"shop_id\", f.col(\"shop_id\").cast(\"int\"))\n",
    "    .withColumn(\"item_id\", f.col(\"item_id\").cast(\"int\"))\n",
    ")\n",
    "\n",
    "results.show()"
   ]
  },
  {
   "cell_type": "code",
   "execution_count": 47,
   "metadata": {},
   "outputs": [
    {
     "name": "stderr",
     "output_type": "stream",
     "text": [
      "22/05/23 23:42:07 WARN RowBasedKeyValueBatch: Calling spill() on RowBasedKeyValueBatch. Will not spill but return 0.\n",
      "                                                                                \r"
     ]
    },
    {
     "name": "stdout",
     "output_type": "stream",
     "text": [
      "+---+---------------+\n",
      "| ID|days_sold_month|\n",
      "+---+---------------+\n",
      "|  0|           0.07|\n",
      "|  1|           0.07|\n",
      "|  2|           0.07|\n",
      "|  3|           0.07|\n",
      "|  4|           0.07|\n",
      "|  5|           0.07|\n",
      "|  6|           0.07|\n",
      "|  7|           0.07|\n",
      "|  8|           0.07|\n",
      "|  9|           0.07|\n",
      "| 10|           0.07|\n",
      "| 11|           0.07|\n",
      "| 12|           0.12|\n",
      "| 13|           0.07|\n",
      "| 14|           3.73|\n",
      "| 15|           0.07|\n",
      "| 16|           0.07|\n",
      "| 17|           0.07|\n",
      "| 18|           0.07|\n",
      "| 19|           0.07|\n",
      "+---+---------------+\n",
      "only showing top 20 rows\n",
      "\n"
     ]
    }
   ],
   "source": [
    "# Unir el conjunto de datos de prueba original con el conjunto de resultados para obtener la columna ID de la tupla\n",
    "submission = test.join(results, on=[\"shop_id\", \"item_id\"], how=\"left\").select([\"ID\", \"days_sold_month\"]).orderBy(\"ID\")\n",
    "\n",
    "# Redondea la predicción a 2 decimales\n",
    "submission = submission.withColumn(\"days_sold_month\", f.round(\"days_sold_month\", 2))\n",
    "\n",
    "submission.show()"
   ]
  }
 ],
 "metadata": {
  "colab": {
   "collapsed_sections": [],
   "name": "ProyectoSCS.ipynb",
   "provenance": []
  },
  "kernelspec": {
   "display_name": "Python 3 (ipykernel)",
   "language": "python",
   "name": "python3"
  },
  "language_info": {
   "codemirror_mode": {
    "name": "ipython",
    "version": 3
   },
   "file_extension": ".py",
   "mimetype": "text/x-python",
   "name": "python",
   "nbconvert_exporter": "python",
   "pygments_lexer": "ipython3",
   "version": "3.8.5"
  }
 },
 "nbformat": 4,
 "nbformat_minor": 1
}
