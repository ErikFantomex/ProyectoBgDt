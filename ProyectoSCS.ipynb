{
  "nbformat": 4,
  "nbformat_minor": 0,
  "metadata": {
    "colab": {
      "name": "ProyectoSCS.ipynb",
      "provenance": [],
      "authorship_tag": "ABX9TyP0i1qjIooxKWfoVGNBOHc+",
      "include_colab_link": true
    },
    "kernelspec": {
      "name": "python3",
      "display_name": "Python 3"
    },
    "language_info": {
      "name": "python"
    }
  },
  "cells": [
    {
      "cell_type": "markdown",
      "metadata": {
        "id": "view-in-github",
        "colab_type": "text"
      },
      "source": [
        "<a href=\"https://colab.research.google.com/github/ErikFantomex/ProyectoBgDt/blob/main/ProyectoSCS.ipynb\" target=\"_parent\"><img src=\"https://colab.research.google.com/assets/colab-badge.svg\" alt=\"Open In Colab\"/></a>"
      ]
    },
    {
      "cell_type": "code",
      "execution_count": 11,
      "metadata": {
        "id": "_ia1HpWbriqw",
        "colab": {
          "base_uri": "https://localhost:8080/"
        },
        "outputId": "6c960ddd-0c04-4f7a-df27-70c9adf1bc3f"
      },
      "outputs": [
        {
          "output_type": "stream",
          "name": "stdout",
          "text": [
            "Drive already mounted at /content/drive; to attempt to forcibly remount, call drive.mount(\"/content/drive\", force_remount=True).\n"
          ]
        }
      ],
      "source": [
        "from google.colab import drive\n",
        "drive.mount('/content/drive')"
      ]
    },
    {
      "cell_type": "markdown",
      "source": [
        "**Instalando spark en colab**"
      ],
      "metadata": {
        "id": "nbH4zNQxp0pW"
      }
    },
    {
      "cell_type": "code",
      "source": [
        "!apt-get install openjdk-8-jdk-headless -qq > /dev/null\n",
        "\n",
        "!wget -q https://archive.apache.org/dist/spark/spark-3.2.1/spark-3.2.1-bin-hadoop3.2.tgz\n",
        "\n",
        "!tar xf spark-3.2.1-bin-hadoop3.2.tgz\n",
        "\n",
        "!pip install -q findspark"
      ],
      "metadata": {
        "id": "hNhUbys2pwbf"
      },
      "execution_count": 12,
      "outputs": []
    },
    {
      "cell_type": "markdown",
      "source": [
        "Descargamos el conjunto de datos \"Predict Future Sales\""
      ],
      "metadata": {
        "id": "LCMeUpABrWaj"
      }
    },
    {
      "cell_type": "code",
      "source": [
        "\n",
        "\n",
        "# Install Kaggle python package and create directory for kaggle credential\n",
        "!pip install kaggle\n",
        "!mkdir ~/.kaggle\n",
        "# Copy the Kaggle credential to runtime machine (remember to mount the Google Drive containing the credential file)\n",
        "!cp /content/drive/MyDrive/kaggle.json ~/.kaggle/kaggle.json\n",
        "\n",
        "# Download the dataset and unzip\n",
        "!kaggle competitions download -c competitive-data-science-predict-future-sales\n",
        "!unzip competitive-data-science-predict-future-sales.zip\n",
        "\n"
      ],
      "metadata": {
        "colab": {
          "base_uri": "https://localhost:8080/"
        },
        "id": "A_6Ukk1jrUK2",
        "outputId": "9b026d5c-cbc1-410d-c3bc-03f22426903a"
      },
      "execution_count": null,
      "outputs": [
        {
          "output_type": "stream",
          "name": "stdout",
          "text": [
            "Requirement already satisfied: kaggle in /usr/local/lib/python3.7/dist-packages (1.5.12)\n",
            "Requirement already satisfied: requests in /usr/local/lib/python3.7/dist-packages (from kaggle) (2.23.0)\n",
            "Requirement already satisfied: python-dateutil in /usr/local/lib/python3.7/dist-packages (from kaggle) (2.8.2)\n",
            "Requirement already satisfied: certifi in /usr/local/lib/python3.7/dist-packages (from kaggle) (2021.10.8)\n",
            "Requirement already satisfied: six>=1.10 in /usr/local/lib/python3.7/dist-packages (from kaggle) (1.15.0)\n",
            "Requirement already satisfied: urllib3 in /usr/local/lib/python3.7/dist-packages (from kaggle) (1.24.3)\n",
            "Requirement already satisfied: tqdm in /usr/local/lib/python3.7/dist-packages (from kaggle) (4.64.0)\n",
            "Requirement already satisfied: python-slugify in /usr/local/lib/python3.7/dist-packages (from kaggle) (6.1.2)\n",
            "Requirement already satisfied: text-unidecode>=1.3 in /usr/local/lib/python3.7/dist-packages (from python-slugify->kaggle) (1.3)\n",
            "Requirement already satisfied: idna<3,>=2.5 in /usr/local/lib/python3.7/dist-packages (from requests->kaggle) (2.10)\n",
            "Requirement already satisfied: chardet<4,>=3.0.2 in /usr/local/lib/python3.7/dist-packages (from requests->kaggle) (3.0.4)\n",
            "mkdir: cannot create directory ‘/root/.kaggle’: File exists\n",
            "cp: cannot stat '/content/drive/MyDrive/kaggle.json': No such file or directory\n",
            "Traceback (most recent call last):\n",
            "  File \"/usr/local/bin/kaggle\", line 5, in <module>\n",
            "    from kaggle.cli import main\n",
            "  File \"/usr/local/lib/python3.7/dist-packages/kaggle/__init__.py\", line 23, in <module>\n",
            "    api.authenticate()\n",
            "  File \"/usr/local/lib/python3.7/dist-packages/kaggle/api/kaggle_api_extended.py\", line 166, in authenticate\n",
            "    self.config_file, self.config_dir))\n",
            "OSError: Could not find kaggle.json. Make sure it's located in /root/.kaggle. Or use the environment method.\n",
            "unzip:  cannot find or open competitive-data-science-predict-future-sales.zip, competitive-data-science-predict-future-sales.zip.zip or competitive-data-science-predict-future-sales.zip.ZIP.\n"
          ]
        }
      ]
    },
    {
      "cell_type": "markdown",
      "source": [
        "Importamos las librerias y iniciamos el entorno"
      ],
      "metadata": {
        "id": "dVZu1_Dqrh4r"
      }
    },
    {
      "cell_type": "code",
      "source": [
        "import os\n",
        "os.environ[\"JAVA_HOME\"] = \"/usr/lib/jvm/java-8-openjdk-amd64\"\n",
        "os.environ[\"SPARK_HOME\"] = \"/content/spark-3.2.1-bin-hadoop3.2\"\n",
        "os.environ[\"PYARROW_IGNORE_TIMEZONE\"] = \"1\"\n",
        "\n",
        "# Import Spark libraries\n",
        "import findspark\n",
        "findspark.init()"
      ],
      "metadata": {
        "id": "5XMjtmAVpwh1"
      },
      "execution_count": 13,
      "outputs": []
    },
    {
      "cell_type": "code",
      "source": [
        "\n",
        "\n",
        "from pyspark.sql import functions as f\n",
        "from pyspark.sql import SparkSession, Window\n",
        "from pyspark.ml.feature import *\n",
        "from pyspark.ml.regression import *\n",
        "from pyspark.ml.evaluation import *\n",
        "from pyspark.ml.functions import vector_to_array\n",
        "import numpy as np\n",
        "import matplotlib.pyplot as plt\n",
        "%matplotlib inline\n",
        "\n"
      ],
      "metadata": {
        "id": "_x2ZGylDpwlj"
      },
      "execution_count": 14,
      "outputs": []
    },
    {
      "cell_type": "code",
      "source": [
        "spark = (SparkSession\n",
        "        .builder\n",
        "        .appName('Lab 3 - SparkML: Regression')\n",
        "        .getOrCreate()\n",
        ")\n",
        "spark.conf.set(\"spark.sql.execution.arrow.pyspark.enabled\", True)"
      ],
      "metadata": {
        "id": "tmWIpmetrsKU"
      },
      "execution_count": 15,
      "outputs": []
    },
    {
      "cell_type": "markdown",
      "source": [
        "# **Cargar los conjuntos de datos de entrenamiento y prueba en Pyspark**"
      ],
      "metadata": {
        "id": "s-ENn354rwes"
      }
    },
    {
      "cell_type": "code",
      "source": [
        ""
      ],
      "metadata": {
        "id": "_cxgFWXkrsNb"
      },
      "execution_count": null,
      "outputs": []
    },
    {
      "cell_type": "code",
      "source": [
        "\n",
        "\n",
        "data = spark.read.csv(\"/content/drive/MyDrive/datasets/sales_train.csv\", header = True, inferSchema = True)\n",
        "test = spark.read.csv(\"/content/drive/MyDrive/datasets/test.csv\", header=True, inferSchema=True)\n",
        "\n"
      ],
      "metadata": {
        "id": "PDtb6ViKrsQD"
      },
      "execution_count": 16,
      "outputs": []
    },
    {
      "cell_type": "code",
      "source": [
        "\n",
        "\n",
        "# Imprime el esquema de la trama de datos\n",
        "data.printSchema()\n",
        "print(\"Test data schema\")\n",
        "test.printSchema()\n",
        "\n"
      ],
      "metadata": {
        "id": "epZONKSGrsSt",
        "colab": {
          "base_uri": "https://localhost:8080/"
        },
        "outputId": "2d716ce8-2ae1-44d5-f15d-6334d6d19875"
      },
      "execution_count": 17,
      "outputs": [
        {
          "output_type": "stream",
          "name": "stdout",
          "text": [
            "Training data schema\n",
            "root\n",
            " |-- date: string (nullable = true)\n",
            " |-- date_block_num: integer (nullable = true)\n",
            " |-- shop_id: integer (nullable = true)\n",
            " |-- item_id: integer (nullable = true)\n",
            " |-- item_price: double (nullable = true)\n",
            " |-- item_cnt_day: double (nullable = true)\n",
            "\n",
            "Test data schema\n",
            "root\n",
            " |-- ID: integer (nullable = true)\n",
            " |-- shop_id: integer (nullable = true)\n",
            " |-- item_id: integer (nullable = true)\n",
            "\n"
          ]
        }
      ]
    },
    {
      "cell_type": "code",
      "source": [
        "data.show(10)"
      ],
      "metadata": {
        "colab": {
          "base_uri": "https://localhost:8080/"
        },
        "id": "pC7O87kRtwj2",
        "outputId": "66951752-f0c7-4768-be3e-0c0fb98ba7f9"
      },
      "execution_count": 18,
      "outputs": [
        {
          "output_type": "stream",
          "name": "stdout",
          "text": [
            "+----------+--------------+-------+-------+----------+------------+\n",
            "|      date|date_block_num|shop_id|item_id|item_price|item_cnt_day|\n",
            "+----------+--------------+-------+-------+----------+------------+\n",
            "|02.01.2013|             0|     59|  22154|     999.0|         1.0|\n",
            "|03.01.2013|             0|     25|   2552|     899.0|         1.0|\n",
            "|05.01.2013|             0|     25|   2552|     899.0|        -1.0|\n",
            "|06.01.2013|             0|     25|   2554|   1709.05|         1.0|\n",
            "|15.01.2013|             0|     25|   2555|    1099.0|         1.0|\n",
            "|10.01.2013|             0|     25|   2564|     349.0|         1.0|\n",
            "|02.01.2013|             0|     25|   2565|     549.0|         1.0|\n",
            "|04.01.2013|             0|     25|   2572|     239.0|         1.0|\n",
            "|11.01.2013|             0|     25|   2572|     299.0|         1.0|\n",
            "|03.01.2013|             0|     25|   2573|     299.0|         3.0|\n",
            "+----------+--------------+-------+-------+----------+------------+\n",
            "only showing top 10 rows\n",
            "\n"
          ]
        }
      ]
    },
    {
      "cell_type": "code",
      "source": [
        "print(\"Column number:\", len(data.columns))\n",
        "print(\"Raw data summary:\")\n",
        "data.summary().show()"
      ],
      "metadata": {
        "id": "xElfS2u1rsVw",
        "colab": {
          "base_uri": "https://localhost:8080/"
        },
        "outputId": "217ff518-be3d-4b36-8755-b5d3694cb24b"
      },
      "execution_count": 19,
      "outputs": [
        {
          "output_type": "stream",
          "name": "stdout",
          "text": [
            "Column number: 6\n",
            "Raw data summary:\n",
            "+-------+----------+-----------------+------------------+------------------+------------------+-----------------+\n",
            "|summary|      date|   date_block_num|           shop_id|           item_id|        item_price|     item_cnt_day|\n",
            "+-------+----------+-----------------+------------------+------------------+------------------+-----------------+\n",
            "|  count|   2935849|          2935849|           2935849|           2935849|           2935849|          2935849|\n",
            "|   mean|      null|14.56991146343017|33.001728290521754|10197.227056977385| 890.8532326980396|1.242640885140891|\n",
            "| stddev|      null|9.422987708755963| 16.22697304833343|6324.2973538912065|1729.7996307126489|2.618834430895435|\n",
            "|    min|01.01.2013|                0|                 0|                 0|              -1.0|            -22.0|\n",
            "|    25%|      null|                7|                22|              4476|             249.0|              1.0|\n",
            "|    50%|      null|               14|                31|              9343|             399.0|              1.0|\n",
            "|    75%|      null|               23|                47|             15684|             999.0|              1.0|\n",
            "|    max|31.12.2014|               33|                59|             22169|          307980.0|           2169.0|\n",
            "+-------+----------+-----------------+------------------+------------------+------------------+-----------------+\n",
            "\n"
          ]
        }
      ]
    },
    {
      "cell_type": "markdown",
      "source": [
        "# Preprocesamiento de datos"
      ],
      "metadata": {
        "id": "ulu2a6P6uIqT"
      }
    },
    {
      "cell_type": "code",
      "source": [
        "\n",
        "\n",
        "# Perform semi join\n",
        "train = (data.join(test, [\"shop_id\", \"item_id\"], \"semi\")\n",
        "              .select(data.columns))\n",
        "# See if the number of rows decreases\n",
        "print(\"Rows after joining:\", train.count())\n",
        "print(\"Summary:\")\n",
        "train.summary().show()\n",
        "\n"
      ],
      "metadata": {
        "id": "sSxgdzhWrsYa",
        "colab": {
          "base_uri": "https://localhost:8080/"
        },
        "outputId": "f539fcc1-1e43-4fdd-9baf-7b1a616aa865"
      },
      "execution_count": 20,
      "outputs": [
        {
          "output_type": "stream",
          "name": "stdout",
          "text": [
            "Rows after joining: 1224439\n",
            "Summary:\n",
            "+-------+----------+------------------+------------------+------------------+------------------+-----------------+\n",
            "|summary|      date|    date_block_num|           shop_id|           item_id|        item_price|     item_cnt_day|\n",
            "+-------+----------+------------------+------------------+------------------+------------------+-----------------+\n",
            "|  count|   1224439|           1224439|           1224439|           1224439|           1224439|          1224439|\n",
            "|   mean|      null|19.354722448402903| 32.15116637088495| 9614.865821817175|1030.6659907978053|1.321234459209483|\n",
            "| stddev|      null|  9.11072237679056|16.465624442549235|6299.8703350761325|1827.3837613285657|3.312996878793288|\n",
            "|    min|01.01.2013|                 0|                 2|                30|               0.5|            -16.0|\n",
            "|    25%|      null|                12|                19|              4181|             299.0|              1.0|\n",
            "|    50%|      null|                21|                31|              7856|             549.0|              1.0|\n",
            "|    75%|      null|                27|                46|             15232|            1199.0|              1.0|\n",
            "|    max|31.12.2014|                33|                59|             22167|           59200.0|           2169.0|\n",
            "+-------+----------+------------------+------------------+------------------+------------------+-----------------+\n",
            "\n"
          ]
        }
      ]
    },
    {
      "cell_type": "code",
      "source": [
        "\n",
        "\n",
        "train = train.where((train.item_price >= 0) & (train.item_cnt_day >= 0))\n",
        "train.count()\n",
        "\n"
      ],
      "metadata": {
        "colab": {
          "base_uri": "https://localhost:8080/"
        },
        "id": "0xWvKLwnt2dA",
        "outputId": "f87fcb3d-fa5e-49c4-c175-5a725a772df3"
      },
      "execution_count": 21,
      "outputs": [
        {
          "output_type": "execute_result",
          "data": {
            "text/plain": [
              "1221498"
            ]
          },
          "metadata": {},
          "execution_count": 21
        }
      ]
    },
    {
      "cell_type": "code",
      "source": [
        "\n",
        "\n",
        "train = (\n",
        "    train.groupBy([\"date_block_num\", \"shop_id\", \"item_id\"]).agg(\n",
        "        f.sum(\"item_price\").alias(\"all_itemPrice_month\"), # Sum of item prices by each item per month\n",
        "        f.mean(\"item_price\").alias(\"mean_itemPrice_month\"), # Mean of item prices by each item per month\n",
        "        f.sum(\"item_cnt_day\").alias(\"item_cnt_month\"), # Total item sold per month\n",
        "        f.mean(\"item_cnt_day\").alias(\"mean_itemCnt_month\"), # Mean of item sold per month\n",
        "        f.count(\"item_cnt_day\").alias(\"days_sold_month\") # Number of days the item is sold each month\n",
        "    ).withColumnRenamed(\"date_block_num\", \"month_index\")\n",
        ")\n",
        "\n"
      ],
      "metadata": {
        "id": "kUnhiYZKuS9M"
      },
      "execution_count": 22,
      "outputs": []
    },
    {
      "cell_type": "code",
      "source": [
        "train.summary().show()"
      ],
      "metadata": {
        "colab": {
          "base_uri": "https://localhost:8080/"
        },
        "id": "Oqk-IgtGuTAQ",
        "outputId": "254f66d7-2d8e-425f-b776-091e71372fa9"
      },
      "execution_count": 23,
      "outputs": [
        {
          "output_type": "stream",
          "name": "stdout",
          "text": [
            "+-------+------------------+-----------------+-----------------+-------------------+--------------------+------------------+------------------+------------------+\n",
            "|summary|       month_index|          shop_id|          item_id|all_itemPrice_month|mean_itemPrice_month|    item_cnt_month|mean_itemCnt_month|   days_sold_month|\n",
            "+-------+------------------+-----------------+-----------------+-------------------+--------------------+------------------+------------------+------------------+\n",
            "|  count|            599912|           599912|           599912|             599912|              599912|            599912|            599912|            599912|\n",
            "|   mean|20.158761618370693|32.06313926042486|10015.36912747203|  2095.652567542916|   911.0195486812893| 2.701724586272653|1.0957363340076394|2.0361286321993894|\n",
            "| stddev| 9.139259988979074|16.88954154941829| 6192.91195449407|  6988.195273079581|  1563.8147208759856|11.292583509624817| 1.765562879428182|2.3191656679151755|\n",
            "|    min|                 0|                2|               30|                0.5|                 0.5|               1.0|               1.0|                 1|\n",
            "|    25%|                13|               19|             4395|              299.0|               299.0|               1.0|               1.0|                 1|\n",
            "|    50%|                22|               31|             9089|              745.0|              474.11|               1.0|               1.0|                 1|\n",
            "|    75%|                28|               47|            15375|            1839.57|              1099.0|               2.0|               1.0|                 2|\n",
            "|    max|                33|               59|            22167|     515573.5897436|             42990.0|            2253.0|            1000.0|                31|\n",
            "+-------+------------------+-----------------+-----------------+-------------------+--------------------+------------------+------------------+------------------+\n",
            "\n"
          ]
        }
      ]
    },
    {
      "cell_type": "code",
      "source": [
        "sampling_ratio = 1 # Change this if the data size is too large\n",
        "itemPrices = train.select(\"all_itemPrice_month\").rdd.map(lambda row: row.all_itemPrice_month).sample(False, sampling_ratio, 19127191).collect()\n",
        "itemCounts = train.select(\"item_cnt_month\").rdd.map(lambda row: row.item_cnt_month).sample(False, sampling_ratio, 19127191).collect()"
      ],
      "metadata": {
        "id": "FjHWvUzqufid"
      },
      "execution_count": 24,
      "outputs": []
    },
    {
      "cell_type": "code",
      "source": [
        "# Draw boxplots of the 2 features to check for outliers\n",
        "# Item prices\n",
        "plt.boxplot(itemPrices, sym='k.')\n",
        "plt.yticks(np.arange(0, 550000, 50000))\n",
        "plt.title(\"Boxplot of item prices\")\n",
        "plt.show()\n",
        "\n",
        "print()\n",
        "# Item sales\n",
        "plt.boxplot(itemCounts, sym='k.')\n",
        "plt.yticks(np.arange(0, 2400, 200))\n",
        "plt.title(\"Boxplot of item sale counts\")\n",
        "plt.show()"
      ],
      "metadata": {
        "colab": {
          "base_uri": "https://localhost:8080/",
          "height": 563
        },
        "id": "yZsdynYmufl0",
        "outputId": "a02e7368-405f-44b8-b99e-ce06b3a45b6a"
      },
      "execution_count": 25,
      "outputs": [
        {
          "output_type": "display_data",
          "data": {
            "text/plain": [
              "<Figure size 432x288 with 1 Axes>"
            ],
            "image/png": "[encoded data removed]"
          },
          "metadata": {
            "needs_background": "light"
          }
        },
        {
          "output_type": "stream",
          "name": "stdout",
          "text": [
            "\n"
          ]
        },
        {
          "output_type": "display_data",
          "data": {
            "text/plain": [
              "<Figure size 432x288 with 1 Axes>"
            ],
            "image/png": "[encoded data removed]"
          },
          "metadata": {
            "needs_background": "light"
          }
        }
      ]
    },
    {
      "cell_type": "code",
      "source": [
        "train = train.where((train.all_itemPrice_month <= 400000) & (train.item_cnt_month <= 800))\n",
        "train.count()"
      ],
      "metadata": {
        "colab": {
          "base_uri": "https://localhost:8080/"
        },
        "id": "rq8Cb8NoufpF",
        "outputId": "df9f05aa-b236-4dcd-8eeb-dbde07a4e995"
      },
      "execution_count": 26,
      "outputs": [
        {
          "output_type": "execute_result",
          "data": {
            "text/plain": [
              "599887"
            ]
          },
          "metadata": {},
          "execution_count": 26
        }
      ]
    },
    {
      "cell_type": "code",
      "source": [
        "\n",
        "\n",
        "combinations = (\n",
        "    (train.select(\"month_index\").distinct()).crossJoin(\n",
        "        train.select(\"shop_id\").distinct())\n",
        "    ).crossJoin(\n",
        "        train.select(\"item_id\").distinct()\n",
        "    )\n",
        "\n"
      ],
      "metadata": {
        "id": "at9ibzMZufr6"
      },
      "execution_count": 27,
      "outputs": []
    },
    {
      "cell_type": "code",
      "source": [
        "\n",
        "\n",
        "train_monthly = train.join(combinations, [\"month_index\", \"shop_id\", \"item_id\"], \"rightouter\")\n",
        "train_monthly = train_monthly.fillna(0) # fill missing values\n",
        "\n",
        "# Perform a sort operation to keep the time series order\n",
        "train_monthly = train_monthly.orderBy([\"month_index\", \"shop_id\", \"item_id\"], ascending=[1,1,1])\n",
        "\n"
      ],
      "metadata": {
        "id": "LoNw9dgquTDE"
      },
      "execution_count": 28,
      "outputs": []
    },
    {
      "cell_type": "code",
      "source": [
        "\n",
        "\n",
        "print(\"10 first samples:\")\n",
        "train_monthly.show(10)\n",
        "print(\"Summary:\")\n",
        "train_monthly.summary().show()\n",
        "\n"
      ],
      "metadata": {
        "id": "-x0VmciIrsbI",
        "colab": {
          "base_uri": "https://localhost:8080/"
        },
        "outputId": "1d83428a-0546-4c3e-f3b0-99edb05561cb"
      },
      "execution_count": 29,
      "outputs": [
        {
          "output_type": "stream",
          "name": "stdout",
          "text": [
            "10 first samples:\n",
            "+-----------+-------+-------+-------------------+--------------------+--------------+------------------+---------------+\n",
            "|month_index|shop_id|item_id|all_itemPrice_month|mean_itemPrice_month|item_cnt_month|mean_itemCnt_month|days_sold_month|\n",
            "+-----------+-------+-------+-------------------+--------------------+--------------+------------------+---------------+\n",
            "|          0|      2|     30|                0.0|                 0.0|           0.0|               0.0|              0|\n",
            "|          0|      2|     31|                0.0|                 0.0|           0.0|               0.0|              0|\n",
            "|          0|      2|     32|                0.0|                 0.0|           0.0|               0.0|              0|\n",
            "|          0|      2|     33|              499.0|               499.0|           1.0|               1.0|              1|\n",
            "|          0|      2|     38|                0.0|                 0.0|           0.0|               0.0|              0|\n",
            "|          0|      2|     42|                0.0|                 0.0|           0.0|               0.0|              0|\n",
            "|          0|      2|     45|                0.0|                 0.0|           0.0|               0.0|              0|\n",
            "|          0|      2|     51|                0.0|                 0.0|           0.0|               0.0|              0|\n",
            "|          0|      2|     53|                0.0|                 0.0|           0.0|               0.0|              0|\n",
            "|          0|      2|     57|                0.0|                 0.0|           0.0|               0.0|              0|\n",
            "+-----------+-------+-------+-------------------+--------------------+--------------+------------------+---------------+\n",
            "only showing top 10 rows\n",
            "\n",
            "Summary:\n",
            "+-------+-----------------+------------------+-----------------+-------------------+--------------------+-------------------+-------------------+------------------+\n",
            "|summary|      month_index|           shop_id|          item_id|all_itemPrice_month|mean_itemPrice_month|     item_cnt_month| mean_itemCnt_month|   days_sold_month|\n",
            "+-------+-----------------+------------------+-----------------+-------------------+--------------------+-------------------+-------------------+------------------+\n",
            "|  count|          6734448|           6734448|          6734448|            6734448|             6734448|            6734448|            6734448|           6734448|\n",
            "|   mean|             16.5|31.642857142857142|11041.89016115352| 185.94676008986008|   81.11693847135855|0.23830475786582656|0.09737376058150372|0.1812939976669209|\n",
            "| stddev|9.810709163570774|17.561893799490097|6210.744436176283| 2092.1238974268977|   533.2408246982641| 3.0459167085111263|0.47134094209744065|0.9018591884277373|\n",
            "|    min|                0|                 2|               30|                0.0|                 0.0|                0.0|                0.0|                 0|\n",
            "|    25%|                8|                16|             5386|                0.0|                 0.0|                0.0|                0.0|                 0|\n",
            "|    50%|               16|                35|            11266|                0.0|                 0.0|                0.0|                0.0|                 0|\n",
            "|    75%|               25|                47|            16069|                0.0|                 0.0|                0.0|                0.0|                 0|\n",
            "|    max|               33|                59|            22167|     388163.3333334|             42990.0|              799.0|              500.0|                31|\n",
            "+-------+-----------------+------------------+-----------------+-------------------+--------------------+-------------------+-------------------+------------------+\n",
            "\n"
          ]
        }
      ]
    },
    {
      "cell_type": "code",
      "source": [
        ""
      ],
      "metadata": {
        "id": "Oak9kRFXu8ob"
      },
      "execution_count": null,
      "outputs": []
    },
    {
      "cell_type": "markdown",
      "source": [
        "# Exploratory Data Analysis (EDA)"
      ],
      "metadata": {
        "id": "FyQ8euXHu91F"
      }
    },
    {
      "cell_type": "code",
      "source": [
        "train_monthly = (\n",
        "    train_monthly.withColumn(\"month\", train_monthly.month_index % 12)\n",
        "                 .withColumn(\"year\", (train_monthly.month_index / 12).cast(\"int\") + 2013)\n",
        ")\n",
        "train_monthly.columns"
      ],
      "metadata": {
        "colab": {
          "base_uri": "https://localhost:8080/"
        },
        "id": "LcUkYp_6u8lv",
        "outputId": "1aca4d82-f5a6-4852-8deb-b60d57ae3b76"
      },
      "execution_count": 30,
      "outputs": [
        {
          "output_type": "execute_result",
          "data": {
            "text/plain": [
              "['month_index',\n",
              " 'shop_id',\n",
              " 'item_id',\n",
              " 'all_itemPrice_month',\n",
              " 'mean_itemPrice_month',\n",
              " 'item_cnt_month',\n",
              " 'mean_itemCnt_month',\n",
              " 'days_sold_month',\n",
              " 'month',\n",
              " 'year']"
            ]
          },
          "metadata": {},
          "execution_count": 30
        }
      ]
    },
    {
      "cell_type": "code",
      "source": [
        "month_index_means = train_monthly.groupBy(\"month_index\").agg(f.mean(\"item_cnt_month\").alias(\"month_index_mean\")).orderBy(\"month_index\")\n",
        "month_means = train_monthly.groupBy(\"month\").agg(f.mean(\"item_cnt_month\").alias(\"month_mean\")).orderBy(\"month\")"
      ],
      "metadata": {
        "id": "sxRcN8J-u8i7"
      },
      "execution_count": 31,
      "outputs": []
    },
    {
      "cell_type": "code",
      "source": [
        "\n",
        "\n",
        "# Convert the data to a list using Spark RDD then plot it with mathplotlib\n",
        "months = range(12)\n",
        "month_indices = range(34)\n",
        "lMonthMean = month_means.rdd.map(lambda row: row.month_mean).collect()\n",
        "lMonthIdxMean = month_index_means.rdd.map(lambda row: row.month_index_mean).collect()\n",
        "\n",
        "# Plot the lines\n",
        "plt.plot(month_indices, lMonthIdxMean)\n",
        "plt.xlabel(\"Month Index\")\n",
        "plt.ylabel(\"Mean of sale counts per month\")\n",
        "plt.title(\"Mean sales per month of all time\")\n",
        "plt.show()\n",
        "print()\n",
        "plt.plot(months, lMonthMean)\n",
        "plt.xlabel(\"Month of a year\")\n",
        "plt.ylabel(\"Mean of sale counts per month\")\n",
        "plt.title(\"Mean sales per month in a year\")\n",
        "plt.show()\n",
        "\n"
      ],
      "metadata": {
        "colab": {
          "base_uri": "https://localhost:8080/",
          "height": 591
        },
        "id": "gYy-k_ttu8fl",
        "outputId": "60b0ba8e-d8dd-4a4c-d3db-1a2870f26899"
      },
      "execution_count": 32,
      "outputs": [
        {
          "output_type": "display_data",
          "data": {
            "text/plain": [
              "<Figure size 432x288 with 1 Axes>"
            ],
            "image/png": "[encoded data removed]"
          },
          "metadata": {
            "needs_background": "light"
          }
        },
        {
          "output_type": "stream",
          "name": "stdout",
          "text": [
            "\n"
          ]
        },
        {
          "output_type": "display_data",
          "data": {
            "text/plain": [
              "<Figure size 432x288 with 1 Axes>"
            ],
            "image/png": "[encoded data removed]"
          },
          "metadata": {
            "needs_background": "light"
          }
        }
      ]
    },
    {
      "cell_type": "markdown",
      "source": [
        "# Feature engineering"
      ],
      "metadata": {
        "id": "gta2-aT8va9v"
      }
    },
    {
      "cell_type": "markdown",
      "source": [
        "Después de realizar el preprocesamiento y el análisis, empezaremos a convertir los datos de las series temporales en datos de regresión. En primer lugar, vamos a crear la columna de predicción para nuestros datos.\n",
        "Originalmente, este conjunto de datos utiliza item_cnt_month para la columna objetivo. Sin embargo, como serie temporal, lo que pretendemos predecir es el valor de las ventas del mes siguiente. Para convertir este problema en un problema de regresión, añadimos una columna que diga \"predicción de ventas para el próximo mes\" utilizando las ventas de la fila siguiente a la actual. Esta será nuestra columna objetivo.\n",
        "\n"
      ],
      "metadata": {
        "id": "Ajsu4vDivdXr"
      }
    },
    {
      "cell_type": "code",
      "source": [
        "window = Window.orderBy(\"month_index\").partitionBy([\"shop_id\", \"item_id\"])\n",
        "rolling_window = Window.orderBy(\"month_index\").partitionBy([\"shop_id\", \"item_id\"]).rangeBetween(-2, 0)"
      ],
      "metadata": {
        "id": "LO9mPHPTu8cX"
      },
      "execution_count": 34,
      "outputs": []
    },
    {
      "cell_type": "code",
      "source": [
        "train_monthly = train_monthly.select(\n",
        "    \"*\",\n",
        "    f.lag(\"item_cnt_month\", offset=-1, default=0).over(window).alias(\"itemCnt_nextMonth\")\n",
        ")"
      ],
      "metadata": {
        "id": "g6nvUzdKvaoa"
      },
      "execution_count": 35,
      "outputs": []
    },
    {
      "cell_type": "markdown",
      "source": [
        ""
      ],
      "metadata": {
        "id": "aTSSOD9Ju8Ok"
      }
    },
    {
      "cell_type": "code",
      "source": [
        "train_monthly = train_monthly.select(\n",
        "    \"*\",\n",
        "    f.lag(\"item_cnt_month\", offset=1, default=0).over(window).alias(\"itemCnt_lag_1\"),\n",
        "    f.lag(\"item_cnt_month\", offset=2, default=0).over(window).alias(\"itemCnt_lag_2\")\n",
        ")"
      ],
      "metadata": {
        "id": "ECnbfhRYpwop"
      },
      "execution_count": 36,
      "outputs": []
    },
    {
      "cell_type": "code",
      "source": [
        "# Create the itemCnt_trendCycle feature\n",
        "train_monthly = train_monthly.withColumn(\n",
        "    \"itemCnt_trendCycle\",\n",
        "    (train_monthly.item_cnt_month - train_monthly.itemCnt_lag_1 - train_monthly.itemCnt_lag_2) / 3\n",
        ")"
      ],
      "metadata": {
        "id": "xBUzZGFRvxCV"
      },
      "execution_count": 37,
      "outputs": []
    },
    {
      "cell_type": "code",
      "source": [
        "train_monthly = (train_monthly.withColumn(\"item_cnt_min\", f.min(\"item_cnt_month\").over(rolling_window))\n",
        "                              .withColumn(\"item_cnt_max\", f.max(\"item_cnt_month\").over(rolling_window))\n",
        "                              .withColumn(\"item_cnt_mean\", f.mean(\"item_cnt_month\").over(rolling_window))\n",
        "                              .withColumn(\"item_cnt_std\", f.stddev(\"item_cnt_month\").over(rolling_window))\n",
        ")"
      ],
      "metadata": {
        "id": "R4YofJhqvxFS"
      },
      "execution_count": 38,
      "outputs": []
    },
    {
      "cell_type": "code",
      "source": [
        "train_monthly = train_monthly.fillna(0)"
      ],
      "metadata": {
        "id": "gTAJKpBtvxIt"
      },
      "execution_count": 39,
      "outputs": []
    },
    {
      "cell_type": "code",
      "source": [
        "print(\"First 10 samples:\")\n",
        "train_monthly.show(10)\n",
        "print(\"Summary:\")\n",
        "train_monthly.summary().show()"
      ],
      "metadata": {
        "colab": {
          "base_uri": "https://localhost:8080/"
        },
        "id": "L6HJS9RTvxMq",
        "outputId": "d7fe5474-d516-46d6-cbae-71c35180a4fe"
      },
      "execution_count": 41,
      "outputs": [
        {
          "output_type": "stream",
          "name": "stdout",
          "text": [
            "First 10 samples:\n",
            "+-----------+-------+-------+-------------------+--------------------+--------------+------------------+---------------+-----+----+-----------------+-------------+-------------+-------------------+------------+------------+------------------+------------------+\n",
            "|month_index|shop_id|item_id|all_itemPrice_month|mean_itemPrice_month|item_cnt_month|mean_itemCnt_month|days_sold_month|month|year|itemCnt_nextMonth|itemCnt_lag_1|itemCnt_lag_2| itemCnt_trendCycle|item_cnt_min|item_cnt_max|     item_cnt_mean|      item_cnt_std|\n",
            "+-----------+-------+-------+-------------------+--------------------+--------------+------------------+---------------+-----+----+-----------------+-------------+-------------+-------------------+------------+------------+------------------+------------------+\n",
            "|          0|      2|     31|                0.0|                 0.0|           0.0|               0.0|              0|    0|2013|              4.0|          0.0|          0.0|                0.0|         0.0|         0.0|               0.0|               0.0|\n",
            "|          1|      2|     31|             2796.0|               699.0|           4.0|               1.0|              4|    1|2013|              1.0|          0.0|          0.0| 1.3333333333333333|         0.0|         4.0|               2.0|2.8284271247461903|\n",
            "|          2|      2|     31|              698.5|               698.5|           1.0|               1.0|              1|    2|2013|              1.0|          4.0|          0.0|               -1.0|         0.0|         4.0|1.6666666666666667|2.0816659994661326|\n",
            "|          3|      2|     31|              699.0|               699.0|           1.0|               1.0|              1|    3|2013|              0.0|          1.0|          4.0|-1.3333333333333333|         1.0|         4.0|               2.0|1.7320508075688772|\n",
            "|          4|      2|     31|                0.0|                 0.0|           0.0|               0.0|              0|    4|2013|              0.0|          1.0|          1.0|-0.6666666666666666|         0.0|         1.0|0.6666666666666666|0.5773502691896258|\n",
            "|          5|      2|     31|                0.0|                 0.0|           0.0|               0.0|              0|    5|2013|              0.0|          0.0|          1.0|-0.3333333333333333|         0.0|         1.0|0.3333333333333333|0.5773502691896258|\n",
            "|          6|      2|     31|                0.0|                 0.0|           0.0|               0.0|              0|    6|2013|              0.0|          0.0|          0.0|                0.0|         0.0|         0.0|               0.0|               0.0|\n",
            "|          7|      2|     31|                0.0|                 0.0|           0.0|               0.0|              0|    7|2013|              0.0|          0.0|          0.0|                0.0|         0.0|         0.0|               0.0|               0.0|\n",
            "|          8|      2|     31|                0.0|                 0.0|           0.0|               0.0|              0|    8|2013|              0.0|          0.0|          0.0|                0.0|         0.0|         0.0|               0.0|               0.0|\n",
            "|          9|      2|     31|                0.0|                 0.0|           0.0|               0.0|              0|    9|2013|              0.0|          0.0|          0.0|                0.0|         0.0|         0.0|               0.0|               0.0|\n",
            "+-----------+-------+-------+-------------------+--------------------+--------------+------------------+---------------+-----+----+-----------------+-------------+-------------+-------------------+------------+------------+------------------+------------------+\n",
            "only showing top 10 rows\n",
            "\n",
            "Summary:\n",
            "+-------+-----------------+------------------+------------------+-------------------+--------------------+-------------------+-------------------+------------------+------------------+------------------+------------------+-------------------+------------------+--------------------+-------------------+------------------+------------------+-------------------+\n",
            "|summary|      month_index|           shop_id|           item_id|all_itemPrice_month|mean_itemPrice_month|     item_cnt_month| mean_itemCnt_month|   days_sold_month|             month|              year| itemCnt_nextMonth|      itemCnt_lag_1|     itemCnt_lag_2|  itemCnt_trendCycle|       item_cnt_min|      item_cnt_max|     item_cnt_mean|       item_cnt_std|\n",
            "+-------+-----------------+------------------+------------------+-------------------+--------------------+-------------------+-------------------+------------------+------------------+------------------+------------------+-------------------+------------------+--------------------+-------------------+------------------+------------------+-------------------+\n",
            "|  count|          6734448|           6734448|           6734448|            6734448|             6734448|            6734448|            6734448|           6734448|           6734448|           6734448|           6734448|            6734448|           6734448|             6734448|            6734448|           6734448|           6734448|            6734448|\n",
            "|   mean|             16.5|31.642857142857142| 11041.89016115352| 185.94676008986175|   81.11693847135935|0.23830475786582656|0.09737376058150567|0.1812939976669209| 5.205882352941177|2013.9411764705883|0.2352353155002459|0.22928946811973305| 0.220534778797015|-0.07050649635036059|0.07779791305835311|0.4378008412864722|0.2324842857701696|0.19807152218198687|\n",
            "| stddev|9.810709163571744| 17.56189379949083|6210.7444361762955|  2092.123897426797|   533.2408246982736| 3.0459167085112058|0.47134094209744837|0.9018591884277187|3.3235296585205805|0.8022460417385037|3.0405347505879803| 3.0087668871464524|2.9758170380641658|  1.3196282619111603| 1.8755919439361777| 4.125534592840336| 2.674389774067606| 1.6973707118784502|\n",
            "|    min|                0|                 2|                30|                0.0|                 0.0|                0.0|                0.0|                 0|                 0|              2013|               0.0|                0.0|               0.0|  -520.6666666666666|                0.0|               0.0|               0.0|                0.0|\n",
            "|    25%|                8|                16|              5386|                0.0|                 0.0|                0.0|                0.0|                 0|                 2|              2013|               0.0|                0.0|               0.0|                 0.0|                0.0|               0.0|               0.0|                0.0|\n",
            "|    50%|               17|                34|             11266|                0.0|                 0.0|                0.0|                0.0|                 0|                 5|              2014|               0.0|                0.0|               0.0|                 0.0|                0.0|               0.0|               0.0|                0.0|\n",
            "|    75%|               25|                47|             16069|                0.0|                 0.0|                0.0|                0.0|                 0|                 8|              2015|               0.0|                0.0|               0.0|                 0.0|                0.0|               0.0|               0.0|                0.0|\n",
            "|    max|               33|                59|             22167|     388163.3333334|             42990.0|              799.0|              500.0|                31|                11|              2015|             799.0|              799.0|             799.0|   258.6666666666667|              764.0|             799.0| 774.3333333333334|   461.302865082511|\n",
            "+-------+-----------------+------------------+------------------+-------------------+--------------------+-------------------+-------------------+------------------+------------------+------------------+------------------+-------------------+------------------+--------------------+-------------------+------------------+------------------+-------------------+\n",
            "\n"
          ]
        }
      ]
    },
    {
      "cell_type": "markdown",
      "source": [
        "#Train-Validation Split"
      ],
      "metadata": {
        "id": "_Ko4iWv5v8CB"
      }
    },
    {
      "cell_type": "code",
      "source": [
        "\n",
        "\n",
        "# Dividimos nuestros datos en 3 conjuntos\n",
        "train_set = train_monthly.where(\"month_index > 1 and month_index < 24\")\n",
        "validation_set = train_monthly.where(\"month_index >= 24 and month_index < 33\")\n",
        "test_set = train_monthly.where(\"month_index == 33\")\n",
        "\n",
        "# Drop rows with null values\n",
        "train_set = train_set.dropna()\n",
        "validation_set = validation_set.dropna()\n"
      ],
      "metadata": {
        "id": "XX4WOe-pvxQd"
      },
      "execution_count": 42,
      "outputs": []
    },
    {
      "cell_type": "code",
      "source": [
        "# Aggregate the mean encoding of categorical features\n",
        "shop_mean = train_set.groupBy(\"shop_id\").agg(f.mean(\"itemCnt_nextMonth\").alias(\"shop_mean\"))\n",
        "item_mean = train_set.groupBy(\"item_id\").agg(f.mean(\"itemCnt_nextMonth\").alias(\"item_mean\"))\n",
        "year_mean = train_set.groupBy(\"year\").agg(f.mean(\"itemCnt_nextMonth\").alias(\"year_mean\"))\n",
        "month_mean = train_set.groupBy(\"month\").agg(f.mean(\"itemCnt_nextMonth\").alias(\"month_mean\"))"
      ],
      "metadata": {
        "id": "Wyeog-f-v_4b"
      },
      "execution_count": 43,
      "outputs": []
    },
    {
      "cell_type": "code",
      "source": [
        "\n",
        "\n",
        "# Add the mean encoding feature derived from training set to all sets\n",
        "# Training set\n",
        "train_set = train_set.join(shop_mean, [\"shop_id\"], \"left\")\n",
        "train_set = train_set.join(item_mean, [\"item_id\"], \"left\")\n",
        "train_set = train_set.join(year_mean, [\"year\"], \"left\")\n",
        "train_set = train_set.join(month_mean, [\"month\"], \"left\")\n",
        "train_set = train_set.withColumn(\"itemCnt_nextMonth\", f.col(\"itemCnt_nextMonth\").cast(\"int\"))\n",
        "train_set = train_set.drop(\"month_index\") # Drop this column since we already have mean encoding of months and years\n",
        "\n",
        "# Validation set\n",
        "validation_set = validation_set.join(shop_mean, [\"shop_id\"], \"left\")\n",
        "validation_set = validation_set.join(item_mean, [\"item_id\"], \"left\")\n",
        "validation_set = validation_set.join(year_mean, [\"year\"], \"left\")\n",
        "validation_set = validation_set.join(month_mean, [\"month\"], \"left\")\n",
        "validation_set = validation_set.withColumn(\"itemCnt_nextMonth\", f.col(\"itemCnt_nextMonth\").cast(\"int\"))\n",
        "validation_set = validation_set.drop(\"month_index\")\n",
        "\n",
        "# Test set\n",
        "test_set = test_set.join(shop_mean, [\"shop_id\"], \"left\")\n",
        "test_set = test_set.join(item_mean, [\"item_id\"], \"left\")\n",
        "test_set = test_set.join(year_mean, [\"year\"], \"left\")\n",
        "test_set = test_set.join(month_mean, [\"month\"], \"left\")\n",
        "test_set = test_set.withColumn(\"itemCnt_nextMonth\", f.col(\"itemCnt_nextMonth\").cast(\"int\"))\n",
        "test_set = test_set.drop(\"itemCnt_nextMonth\")\n",
        "test_set = test_set.drop(\"month_index\")\n",
        "# Add products which never exist in the training data during the record combination generation phase but is in the testing data\n",
        "test_columns = test_set.columns\n",
        "test_set = test.join(test_set, on=[\"shop_id\", \"item_id\"], how=\"left\")\n",
        "\n",
        "# Reorder columns from all 3 sets to match each other\n",
        "train_set = train_set.select(sorted(train_set.columns))\n",
        "validation_set = validation_set.select(sorted(train_set.columns))\n",
        "test_set = test_set.select(sorted(test_columns))\n",
        "\n",
        "# Fill all null values with 0\n",
        "train_set = train_set.fillna(0)\n",
        "validation_set = validation_set.fillna(0)\n",
        "test_set = test_set.fillna(0)\n",
        "\n"
      ],
      "metadata": {
        "id": "0Ec4gnRZvxTq"
      },
      "execution_count": 44,
      "outputs": []
    },
    {
      "cell_type": "code",
      "source": [
        "train_set.printSchema()\n",
        "validation_set.printSchema()\n",
        "test_set.printSchema()"
      ],
      "metadata": {
        "colab": {
          "base_uri": "https://localhost:8080/"
        },
        "id": "cSv8IirgwNlF",
        "outputId": "4a7f1b66-6882-44c6-f2d8-b9bd65cd9963"
      },
      "execution_count": 45,
      "outputs": [
        {
          "output_type": "stream",
          "name": "stdout",
          "text": [
            "root\n",
            " |-- all_itemPrice_month: double (nullable = false)\n",
            " |-- days_sold_month: long (nullable = true)\n",
            " |-- itemCnt_lag_1: double (nullable = false)\n",
            " |-- itemCnt_lag_2: double (nullable = false)\n",
            " |-- itemCnt_nextMonth: integer (nullable = true)\n",
            " |-- itemCnt_trendCycle: double (nullable = false)\n",
            " |-- item_cnt_max: double (nullable = false)\n",
            " |-- item_cnt_mean: double (nullable = false)\n",
            " |-- item_cnt_min: double (nullable = false)\n",
            " |-- item_cnt_month: double (nullable = false)\n",
            " |-- item_cnt_std: double (nullable = false)\n",
            " |-- item_id: integer (nullable = true)\n",
            " |-- item_mean: double (nullable = false)\n",
            " |-- mean_itemCnt_month: double (nullable = false)\n",
            " |-- mean_itemPrice_month: double (nullable = false)\n",
            " |-- month: integer (nullable = true)\n",
            " |-- month_mean: double (nullable = false)\n",
            " |-- shop_id: integer (nullable = true)\n",
            " |-- shop_mean: double (nullable = false)\n",
            " |-- year: integer (nullable = true)\n",
            " |-- year_mean: double (nullable = false)\n",
            "\n",
            "root\n",
            " |-- all_itemPrice_month: double (nullable = false)\n",
            " |-- days_sold_month: long (nullable = true)\n",
            " |-- itemCnt_lag_1: double (nullable = false)\n",
            " |-- itemCnt_lag_2: double (nullable = false)\n",
            " |-- itemCnt_nextMonth: integer (nullable = true)\n",
            " |-- itemCnt_trendCycle: double (nullable = false)\n",
            " |-- item_cnt_max: double (nullable = false)\n",
            " |-- item_cnt_mean: double (nullable = false)\n",
            " |-- item_cnt_min: double (nullable = false)\n",
            " |-- item_cnt_month: double (nullable = false)\n",
            " |-- item_cnt_std: double (nullable = false)\n",
            " |-- item_id: integer (nullable = true)\n",
            " |-- item_mean: double (nullable = false)\n",
            " |-- mean_itemCnt_month: double (nullable = false)\n",
            " |-- mean_itemPrice_month: double (nullable = false)\n",
            " |-- month: integer (nullable = true)\n",
            " |-- month_mean: double (nullable = false)\n",
            " |-- shop_id: integer (nullable = true)\n",
            " |-- shop_mean: double (nullable = false)\n",
            " |-- year: integer (nullable = true)\n",
            " |-- year_mean: double (nullable = false)\n",
            "\n",
            "root\n",
            " |-- all_itemPrice_month: double (nullable = false)\n",
            " |-- days_sold_month: long (nullable = true)\n",
            " |-- itemCnt_lag_1: double (nullable = false)\n",
            " |-- itemCnt_lag_2: double (nullable = false)\n",
            " |-- itemCnt_trendCycle: double (nullable = false)\n",
            " |-- item_cnt_max: double (nullable = false)\n",
            " |-- item_cnt_mean: double (nullable = false)\n",
            " |-- item_cnt_min: double (nullable = false)\n",
            " |-- item_cnt_month: double (nullable = false)\n",
            " |-- item_cnt_std: double (nullable = false)\n",
            " |-- item_id: integer (nullable = true)\n",
            " |-- item_mean: double (nullable = false)\n",
            " |-- mean_itemCnt_month: double (nullable = false)\n",
            " |-- mean_itemPrice_month: double (nullable = false)\n",
            " |-- month: integer (nullable = true)\n",
            " |-- month_mean: double (nullable = false)\n",
            " |-- shop_id: integer (nullable = true)\n",
            " |-- shop_mean: double (nullable = false)\n",
            " |-- year: integer (nullable = true)\n",
            " |-- year_mean: double (nullable = false)\n",
            "\n"
          ]
        }
      ]
    },
    {
      "cell_type": "code",
      "source": [
        "# Restructure training set\n",
        "inputColumns = train_set.drop(\"itemCnt_nextMonth\").columns\n",
        "assembler1 = VectorAssembler(inputCols=inputColumns, outputCol=\"features\")\n",
        "train_assembled = assembler1.transform(train_set).select([\"features\", \"itemCnt_nextMonth\"])\n",
        "\n",
        "# Restructure validation set\n",
        "inputColumns = validation_set.drop(\"itemCnt_nextMonth\").columns\n",
        "assembler2 = VectorAssembler(inputCols=inputColumns, outputCol=\"features\")\n",
        "validation_assembled = assembler2.transform(validation_set).select([\"features\", \"itemCnt_nextMonth\"])\n",
        "\n",
        "# Restructure test set\n",
        "inputColumns = test_set.columns\n",
        "assembler3 = VectorAssembler(inputCols=inputColumns, outputCol=\"features\")\n",
        "test_assembled = assembler3.transform(test_set).select([\"features\"])"
      ],
      "metadata": {
        "id": "GThsmrolwNoq"
      },
      "execution_count": 46,
      "outputs": []
    },
    {
      "cell_type": "code",
      "source": [
        "# Check the schema again\n",
        "train_assembled.printSchema()\n",
        "validation_assembled.printSchema()\n",
        "test_assembled.printSchema()"
      ],
      "metadata": {
        "colab": {
          "base_uri": "https://localhost:8080/"
        },
        "id": "7j7UjmhowNrv",
        "outputId": "51a4ca25-cde6-45a3-bf6c-6df25dd5db13"
      },
      "execution_count": 47,
      "outputs": [
        {
          "output_type": "stream",
          "name": "stdout",
          "text": [
            "root\n",
            " |-- features: vector (nullable = true)\n",
            " |-- itemCnt_nextMonth: integer (nullable = true)\n",
            "\n",
            "root\n",
            " |-- features: vector (nullable = true)\n",
            " |-- itemCnt_nextMonth: integer (nullable = true)\n",
            "\n",
            "root\n",
            " |-- features: vector (nullable = true)\n",
            "\n"
          ]
        }
      ]
    },
    {
      "cell_type": "code",
      "source": [
        "\n",
        "\n",
        "train_maxVal = train_set.groupby().max('itemCnt_nextMonth').collect()[0].asDict()['max(itemCnt_nextMonth)']\n",
        "train_minVal = train_set.groupby().min('itemCnt_nextMonth').collect()[0].asDict()['min(itemCnt_nextMonth)']\n",
        "validation_maxVal = validation_set.groupby().max('itemCnt_nextMonth').collect()[0].asDict()['max(itemCnt_nextMonth)']\n",
        "validation_minVal = validation_set.groupby().min('itemCnt_nextMonth').collect()[0].asDict()['min(itemCnt_nextMonth)']\n",
        "\n"
      ],
      "metadata": {
        "id": "LRLbSmnv2wsG"
      },
      "execution_count": 55,
      "outputs": []
    },
    {
      "cell_type": "markdown",
      "source": [
        "#Modelando los datos"
      ],
      "metadata": {
        "id": "GMAxDm7EwY4j"
      }
    },
    {
      "cell_type": "markdown",
      "source": [
        "#Regresion lineal"
      ],
      "metadata": {
        "id": "Mwx1JE9KwcTT"
      }
    },
    {
      "cell_type": "code",
      "source": [
        "\n",
        "\n",
        "# Rescale training set\n",
        "scaler = StandardScaler(inputCol=\"features\", outputCol=\"scaledFeatures\")\n",
        "scaler_model = scaler.fit(train_assembled)\n",
        "train_scaled = scaler_model.transform(train_assembled).select([\"scaledFeatures\", \"itemCnt_nextMonth\"])\n",
        "\n",
        "# Rescale validation set\n",
        "scaler = StandardScaler(inputCol=\"features\", outputCol=\"scaledFeatures\")\n",
        "scaler_model = scaler.fit(validation_assembled)\n",
        "validation_scaled = scaler_model.transform(validation_assembled).select([\"scaledFeatures\", \"itemCnt_nextMonth\"])\n",
        "\n"
      ],
      "metadata": {
        "id": "ugCSl50YwYt8"
      },
      "execution_count": 48,
      "outputs": []
    },
    {
      "cell_type": "markdown",
      "source": [
        "# Antes de utilizar la regresión lineal, deberíamos utilizar un selector de características para reducir la dimensionalidad de los datos, lo que reducirá el tiempo de entrenamiento y el exceso de ajuste. Aquí utilizaremos el selector de características univariante para seleccionar el 30% de las mejores características del conjunto de entrenamiento. El selector se ajustará al conjunto de entrenamiento, y luego lo utilizaremos para transformar tanto el conjunto de entrenamiento como el de validación.\n",
        "\n",
        "T"
      ],
      "metadata": {
        "id": "NOHTZP6hxD6q"
      }
    },
    {
      "cell_type": "code",
      "source": [
        "selector = UnivariateFeatureSelector(featuresCol=\"scaledFeatures\", outputCol=\"selectedFeatures\", labelCol=\"itemCnt_nextMonth\", selectionMode=\"percentile\")\n",
        "selector.setFeatureType(\"continuous\").setLabelType(\"continuous\").setSelectionThreshold(0.3)\n",
        "selector_model = selector.fit(train_scaled)\n",
        "train_selected = selector_model.transform(train_scaled).select([\"selectedFeatures\", \"itemCnt_nextMonth\"])\n",
        "validation_selected = selector_model.transform(validation_scaled).select([\"selectedFeatures\", \"itemCnt_nextMonth\"])"
      ],
      "metadata": {
        "id": "bEnPqaFhwkbC"
      },
      "execution_count": 49,
      "outputs": []
    },
    {
      "cell_type": "code",
      "source": [
        "train_selected.head().selectedFeatures"
      ],
      "metadata": {
        "colab": {
          "base_uri": "https://localhost:8080/"
        },
        "id": "Q7izhqMLwn-K",
        "outputId": "de5336d0-770b-413d-d715-9e2da83f8586"
      },
      "execution_count": 50,
      "outputs": [
        {
          "output_type": "execute_result",
          "data": {
            "text/plain": [
              "DenseVector([0.1532, 2.1797, 2.2539, 3.0308, -3.592, 2.1551])"
            ]
          },
          "metadata": {},
          "execution_count": 50
        }
      ]
    },
    {
      "cell_type": "markdown",
      "source": [
        "\n",
        "\n",
        "\n",
        "Así que se han seleccionado 6 características de entre las 20 del conjunto de entrenamiento. Utilizaremos la característica seleccionada para entrenar el modelo de regresión lineal.\n",
        "\n",
        "\n",
        "\n"
      ],
      "metadata": {
        "id": "lYyG8NMlxRvE"
      }
    },
    {
      "cell_type": "code",
      "source": [
        "lr = LinearRegression(featuresCol=\"selectedFeatures\", labelCol=\"itemCnt_nextMonth\", regParam=0.3, elasticNetParam=0.3, maxIter=10)\n",
        "lr_model = lr.fit(train_selected)"
      ],
      "metadata": {
        "id": "pAIymR_EwNuW"
      },
      "execution_count": 51,
      "outputs": []
    },
    {
      "cell_type": "code",
      "source": [
        "trainingSummary = lr_model.summary\n",
        "print(\"Train RMSE:\", trainingSummary.rootMeanSquaredError)\n",
        "print(\"Train Adjusted R2:\", trainingSummary.r2adj)"
      ],
      "metadata": {
        "colab": {
          "base_uri": "https://localhost:8080/"
        },
        "id": "8UbXOlNHwtAA",
        "outputId": "344d1420-0e75-43a0-b329-7161b9eaa4ad"
      },
      "execution_count": 52,
      "outputs": [
        {
          "output_type": "stream",
          "name": "stdout",
          "text": [
            "Train RMSE: 2.221969755625813\n",
            "Train Adjusted R2: 0.5499202422130905\n"
          ]
        }
      ]
    },
    {
      "cell_type": "markdown",
      "source": [
        "El valor R2 ajustado indica que aproximadamente el 54,9% ~ 55% de los registros de nuestro conjunto de entrenamiento pueden utilizarse para explicar los registros objetivo. Esto se debe a que originalmente llenamos nuestro conjunto de entrenamiento con muchos registros vacíos utilizando las combinaciones de (month_index, shop_id, item_id). Mientras el valor R2 ajustado sea superior al 50%, podemos considerar que nuestro modelo es lo suficientemente bueno para la evaluación.\n",
        "Para entender mejor el valor de RMSE, lo normalizamos con respecto al rango de resultados del conjunto de entrenamiento (máximo y mínimo de itemCnt_nextMonth). Esto escalará el RMSE entre 0 y 1. Cuanto más cerca esté de 0, más se ajusta nuestro modelo, pero si es completamente 0, significa que el modelo está sobreajustado por lo que debemos tener cuidado."
      ],
      "metadata": {
        "id": "ZXBV7odl2UwX"
      }
    },
    {
      "cell_type": "code",
      "source": [
        "\n",
        "\n",
        "print(\"Normalized RMSE:\", trainingSummary.rootMeanSquaredError / (train_maxVal - train_minVal))\n"
      ],
      "metadata": {
        "colab": {
          "base_uri": "https://localhost:8080/"
        },
        "id": "Qjr-C915wtCv",
        "outputId": "60942c04-7913-4895-d2cb-95d5355e8fff"
      },
      "execution_count": 56,
      "outputs": [
        {
          "output_type": "stream",
          "name": "stdout",
          "text": [
            "Normalized RMSE: 0.002780938367491631\n"
          ]
        }
      ]
    },
    {
      "cell_type": "code",
      "source": [
        "\n",
        "\n",
        "# Let the model predict the validation set\n",
        "lr_predictions = lr_model.transform(validation_selected)\n",
        "\n",
        "# Use a Regression Evaluator to evaluate the prediction results\n",
        "lr_evaluator = RegressionEvaluator(predictionCol=\"prediction\", labelCol=\"itemCnt_nextMonth\",metricName=\"rmse\")\n",
        "validation_rmse = lr_evaluator.evaluate(lr_predictions)\n",
        "print(\"Validation RMSE:\", validation_rmse)\n",
        "\n"
      ],
      "metadata": {
        "colab": {
          "base_uri": "https://localhost:8080/"
        },
        "id": "piwmhPCgwtF6",
        "outputId": "1fa4c73b-68e5-44e8-d88d-ef71d9c98609"
      },
      "execution_count": 57,
      "outputs": [
        {
          "output_type": "stream",
          "name": "stdout",
          "text": [
            "Validation RMSE: 2.264954954079689\n"
          ]
        }
      ]
    },
    {
      "cell_type": "code",
      "source": [
        "\n",
        "\n",
        "print(\"Normalized validation RMSE:\", validation_rmse / (validation_maxVal - validation_minVal))\n",
        "\n"
      ],
      "metadata": {
        "colab": {
          "base_uri": "https://localhost:8080/"
        },
        "id": "d-MWgztCwtIn",
        "outputId": "f49b052c-4f52-476a-aabe-fc2caede15e9"
      },
      "execution_count": 58,
      "outputs": [
        {
          "output_type": "stream",
          "name": "stdout",
          "text": [
            "Normalized validation RMSE: 0.003052499938112788\n"
          ]
        }
      ]
    }
  ]
}